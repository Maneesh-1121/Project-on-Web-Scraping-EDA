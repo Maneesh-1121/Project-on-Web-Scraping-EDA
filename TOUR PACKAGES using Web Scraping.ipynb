{
 "cells": [
  {
   "cell_type": "markdown",
   "id": "28a65d09-91d6-46fe-83ef-a5abb73da930",
   "metadata": {},
   "source": [
    "# Introduction to Web Scraping\n",
    "\n",
    "## 1. Introduction to Web Scraping\n",
    "\n",
    "In today's world, we have tons of unstructured data/information (mostly web data) available freely. Sometimes the freely available data is easy to read and sometimes not. No matter how your data is available, web scraping is a very useful tool to transform unstructured data into structured data that is easier to read and analyze. In other words, web scraping is a way to collect, organize and analyze this enormous amount of data. So let us first understand what is web-scraping.\n",
    "\n",
    "### When and Where Data Scientists/Analysts Use Web Scraping:\n",
    "\n",
    "- **When:** When data is not readily available in a structured format (e.g., APIs, databases).\n",
    "- **Where:** E-commerce, social media, news websites, financial sites, etc.\n",
    "\n",
    "### Why Use Web Scraping?\n",
    "\n",
    "- **Data Collection:** Gather large amounts of data from the web quickly and efficiently.\n",
    "- **Automation:** Automate the process of data collection and updates.\n",
    "- **Insights:** Derive insights from data that is not easily accessible through other means.\n",
    "\n",
    "### Ethical and Legal Considerations:\n",
    "\n",
    "- **Ethics:** Respecting website terms of service, avoiding overloading servers.\n",
    "- **Legality:** Following the robots.txt file, understanding copyright laws.\n",
    "\n",
    "### Common Web Scraping Tools:\n",
    "\n",
    "- **Libraries:** Beautiful Soup, Scrapy, Selenium, Requests.\n",
    "- **Comparison:** Use cases for each tool\n",
    "\n",
    "### Content:\n",
    "\n",
    "#### Basics of HTML:\n",
    "\n",
    "- **HTML Tags:** `<html>`, `<head>`, `<body>`, `<div>`, `<span>`, etc.\n",
    "- **Attributes:** `id`, `class`, `href`, `src`, etc.\n",
    "- **DOM Structure:** The hierarchical organization of elements.\n",
    "\n",
    "#### Common HTML Tags and Their Uses:\n",
    "\n",
    "- **Headings:** `<h1>`, `<h2>`, `<h3>`, etc.\n",
    "- **Paragraphs:** `<p>`\n",
    "- **Links:** `<a href=\"URL\">Link Text</a>`\n",
    "- **Images:** `<img src=\"image.jpg\" alt=\"description\">`\n",
    "- **Lists:** `<ul>`, `<ol>`, `<li>`\n",
    "- **Tables:** `<table>`, `<tr>`, `<td>`\n"
   ]
  },
  {
   "cell_type": "code",
   "execution_count": null,
   "id": "c38d476f-7a29-4f66-8fcc-270a9a82029b",
   "metadata": {},
   "outputs": [],
   "source": []
  },
  {
   "cell_type": "markdown",
   "id": "9079df79-68cf-46c1-90c1-dec1785bfbf7",
   "metadata": {},
   "source": [
    "## Fetching Web Pages with Requests\n",
    "\n",
    "#### Introduction to the requests Library:\n",
    "\n",
    "* **Requests:** Sending HTTP requests to fetch web content.\n",
    "      \n",
    "      --> pip install requests\n",
    "\n",
    "#### Sending GET Requests and Handling Responses:\n",
    "\n",
    "```python\n",
    "import requests\n",
    "url = \"http://google.com\"\n",
    "response = requests.get(url)\n",
    "\n",
    "\n",
    "### Handling HTTP Responses:\n",
    "\n",
    "#### Status Codes:\n",
    " \n",
    "    200: OK\n",
    "    300: Redirection\n",
    "    400: Client Error (e.g., 404 Not Found)\n",
    "    500: Server Error (e.g., 500 Internal Server Error)"
   ]
  },
  {
   "cell_type": "code",
   "execution_count": null,
   "id": "bb63da6a-159a-4b46-ae30-093a1b1210e0",
   "metadata": {},
   "outputs": [],
   "source": []
  },
  {
   "cell_type": "markdown",
   "id": "39927558-d926-461a-a83d-b04f68e625c1",
   "metadata": {},
   "source": [
    "## Parsing HTML with Beautiful Soup\n",
    "\n",
    "### Learning Objectives:\n",
    "\n",
    "- Parse HTML documents using Beautiful Soup.\n",
    "- Extract specific elements and data from web pages.\n",
    "\n",
    "### Introduction to Beautiful Soup\n",
    "\n",
    "Beautiful Soup is a Python library named after a Lewis Carroll poem of the same name in \"Alice's Adventures in Wonderland\". Beautiful Soup parses unwanted data and helps organize and format messy web data by fixing bad HTML and presenting it in easily-traversable XML structures. In short, Beautiful Soup is a Python package that allows us to pull data out of HTML and XML documents.\n",
    "\n",
    "### Installing Beautiful Soup:\n",
    "\n",
    "```bash\n",
    "pip install beautifulsoup4\n",
    "```\n",
    "\n",
    "\n",
    "### Commonly Used Methods and Attributes:\n",
    "\n",
    "    soup.title: The <title> tag of the HTML document.\n",
    "    soup.body: The <body> tag of the HTML document.\n",
    "    soup.find(): Finds the first instance of an element.\n",
    "    soup.find_all(): Finds all instances of an element."
   ]
  },
  {
   "cell_type": "code",
   "execution_count": null,
   "id": "532e6570-0322-4a9e-af65-32a90246523b",
   "metadata": {},
   "outputs": [],
   "source": []
  },
  {
   "cell_type": "markdown",
   "id": "9f2dd60e-bc83-4eee-b156-9e21c19b2399",
   "metadata": {},
   "source": [
    "## Importing all required libraries"
   ]
  },
  {
   "cell_type": "code",
   "execution_count": 210,
   "id": "780237c7-a664-455a-8d34-5590ab8e2aee",
   "metadata": {},
   "outputs": [],
   "source": [
    "import requests\n",
    "import re\n",
    "import pandas as pd\n",
    "import matplotlib.pyplot as plt\n",
    "import seaborn as sns\n",
    "from bs4 import BeautifulSoup\n",
    "import warnings\n",
    "warnings.filterwarnings('ignore')"
   ]
  },
  {
   "cell_type": "code",
   "execution_count": null,
   "id": "4c0db970-94c8-46c6-9928-2076e21ddbd7",
   "metadata": {},
   "outputs": [],
   "source": []
  },
  {
   "cell_type": "code",
   "execution_count": 211,
   "id": "6246721e-dca9-4611-9ca0-4e72505cd3bf",
   "metadata": {},
   "outputs": [],
   "source": [
    "url = \"https://traveltriangle.com/tour-packages/?date=&travelmonth=&destination_not_decided=&days[]=4-6&adult=&children=\""
   ]
  },
  {
   "cell_type": "code",
   "execution_count": 212,
   "id": "7b712e4e-fe16-4883-b31d-801a246de34c",
   "metadata": {},
   "outputs": [
    {
     "data": {
      "text/plain": [
       "<Response [200]>"
      ]
     },
     "execution_count": 212,
     "metadata": {},
     "output_type": "execute_result"
    }
   ],
   "source": [
    "res = requests.get(url)\n",
    "res"
   ]
  },
  {
   "cell_type": "markdown",
   "id": "800860d6-870f-42eb-b47e-3e78201a586d",
   "metadata": {},
   "source": [
    "### We got response [200] "
   ]
  },
  {
   "cell_type": "code",
   "execution_count": null,
   "id": "bee46191-5eff-4dea-90e0-10060e4e8057",
   "metadata": {},
   "outputs": [],
   "source": []
  },
  {
   "cell_type": "code",
   "execution_count": 214,
   "id": "a49f2e65-061b-40de-86a4-5676b77b1a26",
   "metadata": {},
   "outputs": [],
   "source": [
    "soup = BeautifulSoup(res.content, \"html.parser\")"
   ]
  },
  {
   "cell_type": "markdown",
   "id": "6f4a65b2-a9ed-4969-94ee-29a7df5c09f6",
   "metadata": {},
   "source": [
    "### Extracting `title` from website"
   ]
  },
  {
   "cell_type": "code",
   "execution_count": 216,
   "id": "9ddb93c4-6590-496e-81e9-87f73decb014",
   "metadata": {},
   "outputs": [
    {
     "name": "stdout",
     "output_type": "stream",
     "text": [
      "[<span class=\"fw9 m0 f16 pfc3\">Maldives South Palm Resort Package With Flights</span>, <span class=\"fw9 m0 f16 pfc3\">Idyllic Maldives Honeymoon Tour Package</span>, <span class=\"fw9 m0 f16 pfc3\">Budget-Friendly Dubai Packages From Atlantis For A Thrilling Vacay</span>, <span class=\"fw9 m0 f16 pfc3\">Most Reasonable Goa Honeymoon Tour Packages</span>, <span class=\"fw9 m0 f16 pfc3\">Fantastic Andaman Honeymoon Package</span>, <span class=\"fw9 m0 f16 pfc3\">Refreshing Maldives Family Tour Packages From India</span>, <span class=\"fw9 m0 f16 pfc3\">Best 4N 5D Andaman Sightseeing Tour Package For A Refreshing Getaway</span>, <span class=\"fw9 m0 f16 pfc3\">Astounding Dubai Honeymoon Package</span>, <span class=\"fw9 m0 f16 pfc3\">Hills &amp; Houseboat: Munnar and Alleppey Honeymoon Package </span>, <span class=\"fw9 m0 f16 pfc3\">Top Family Holiday Packages in Goa for an Ideal Family Vacation</span>, <span class=\"fw9 m0 f16 pfc3\">Top 4 Nights 5 Days Best-Selling Sikkim Gangtok Darjeeling Tour Package</span>, <span class=\"fw9 m0 f16 pfc3\">Best 5 Night 6 Day Leh Ladakh Tour Package For A Fun Filled Vacay</span>, <span class=\"fw9 m0 f16 pfc3\">Memorable Mauritius Tour Package</span>, <span class=\"fw9 m0 f16 pfc3\">Charming Paris Honeymoon Package</span>, <span class=\"fw9 m0 f16 pfc3\">Postcard-Perfect Sikkim Gangtok Lachung Honeymoon Packages</span>, <span class=\"fw9 m0 f16 pfc3\">Best Maldives Sightseeing Tour Package With Fun-Filled Experiences</span>, <span class=\"fw9 m0 f16 pfc3\">Best Selling Kerala Houseboat &amp; Jungle Safari Tour Package</span>, <span class=\"fw9 m0 f16 pfc3\">Superb Bali Tour Package</span>, <span class=\"fw9 m0 f16 pfc3\">Explore The Romantic Side Of Bhutan With Your Partner On This Getaway</span>, <span class=\"fw9 m0 f16 pfc3\">Go on an excursion to Shillong to witness the best of natural attraction</span>]\n"
     ]
    }
   ],
   "source": [
    "title = soup.find_all(\"span\",class_=\"fw9 m0 f16 pfc3\")\n",
    "print(title)"
   ]
  },
  {
   "cell_type": "code",
   "execution_count": 217,
   "id": "e13e962d-06ca-475d-9b39-a3cd71e5f470",
   "metadata": {},
   "outputs": [],
   "source": [
    "titles = []\n",
    "for t in title:\n",
    "    titles.append(t.get_text().strip())"
   ]
  },
  {
   "cell_type": "code",
   "execution_count": 218,
   "id": "151d4f45-122f-47c1-8d10-d9558e3c7860",
   "metadata": {},
   "outputs": [
    {
     "name": "stdout",
     "output_type": "stream",
     "text": [
      "['Maldives South Palm Resort Package With Flights', 'Idyllic Maldives Honeymoon Tour Package', 'Budget-Friendly Dubai Packages From Atlantis For A Thrilling Vacay', 'Most Reasonable Goa Honeymoon Tour Packages', 'Fantastic Andaman Honeymoon Package', 'Refreshing Maldives Family Tour Packages From India', 'Best 4N 5D Andaman Sightseeing Tour Package For A Refreshing Getaway', 'Astounding Dubai Honeymoon Package', 'Hills & Houseboat: Munnar and Alleppey Honeymoon Package', 'Top Family Holiday Packages in Goa for an Ideal Family Vacation', 'Top 4 Nights 5 Days Best-Selling Sikkim Gangtok Darjeeling Tour Package', 'Best 5 Night 6 Day Leh Ladakh Tour Package For A Fun Filled Vacay', 'Memorable Mauritius Tour Package', 'Charming Paris Honeymoon Package', 'Postcard-Perfect Sikkim Gangtok Lachung Honeymoon Packages', 'Best Maldives Sightseeing Tour Package With Fun-Filled Experiences', 'Best Selling Kerala Houseboat & Jungle Safari Tour Package', 'Superb Bali Tour Package', 'Explore The Romantic Side Of Bhutan With Your Partner On This Getaway', 'Go on an excursion to Shillong to witness the best of natural attraction']\n"
     ]
    }
   ],
   "source": [
    "print(titles)"
   ]
  },
  {
   "cell_type": "code",
   "execution_count": null,
   "id": "dbdc6742-a48a-4129-985d-fed78ce9e59d",
   "metadata": {},
   "outputs": [],
   "source": []
  },
  {
   "cell_type": "markdown",
   "id": "945490ae-3e53-47be-b02b-d1e1a4b86f1f",
   "metadata": {},
   "source": [
    "### Extracting `Duration` from website"
   ]
  },
  {
   "cell_type": "code",
   "execution_count": 220,
   "id": "00972ca3-e826-4ff7-a48e-f02baa4fa9ea",
   "metadata": {},
   "outputs": [
    {
     "name": "stdout",
     "output_type": "stream",
     "text": [
      "[<span class=\"iblock sfc6\">5<!-- --> Days &amp; <!-- -->4<!-- --> Nights</span>, <span class=\"iblock sfc6\">5<!-- --> Days &amp; <!-- -->4<!-- --> Nights</span>, <span class=\"iblock sfc6\">6<!-- --> Days &amp; <!-- -->5<!-- --> Nights</span>, <span class=\"iblock sfc6\">5<!-- --> Days &amp; <!-- -->4<!-- --> Nights</span>, <span class=\"iblock sfc6\">5<!-- --> Days &amp; <!-- -->4<!-- --> Nights</span>, <span class=\"iblock sfc6\">5<!-- --> Days &amp; <!-- -->4<!-- --> Nights</span>, <span class=\"iblock sfc6\">5<!-- --> Days &amp; <!-- -->4<!-- --> Nights</span>, <span class=\"iblock sfc6\">6<!-- --> Days &amp; <!-- -->5<!-- --> Nights</span>, <span class=\"iblock sfc6\">6<!-- --> Days &amp; <!-- -->5<!-- --> Nights</span>, <span class=\"iblock sfc6\">5<!-- --> Days &amp; <!-- -->4<!-- --> Nights</span>, <span class=\"iblock sfc6\">5<!-- --> Days &amp; <!-- -->4<!-- --> Nights</span>, <span class=\"iblock sfc6\">6<!-- --> Days &amp; <!-- -->5<!-- --> Nights</span>, <span class=\"iblock sfc6\">5<!-- --> Days &amp; <!-- -->4<!-- --> Nights</span>, <span class=\"iblock sfc6\">4<!-- --> Days &amp; <!-- -->3<!-- --> Nights</span>, <span class=\"iblock sfc6\">5<!-- --> Days &amp; <!-- -->4<!-- --> Nights</span>, <span class=\"iblock sfc6\">5<!-- --> Days &amp; <!-- -->4<!-- --> Nights</span>, <span class=\"iblock sfc6\">5<!-- --> Days &amp; <!-- -->4<!-- --> Nights</span>, <span class=\"iblock sfc6\">6<!-- --> Days &amp; <!-- -->5<!-- --> Nights</span>, <span class=\"iblock sfc6\">5<!-- --> Days &amp; <!-- -->4<!-- --> Nights</span>, <span class=\"iblock sfc6\">6<!-- --> Days &amp; <!-- -->5<!-- --> Nights</span>]\n"
     ]
    }
   ],
   "source": [
    "duration = soup.find_all(\"span\" ,class_=\"iblock sfc6\")\n",
    "print(duration)"
   ]
  },
  {
   "cell_type": "code",
   "execution_count": 221,
   "id": "d4f44b8b-26c1-4320-b372-214e0047b8a2",
   "metadata": {},
   "outputs": [],
   "source": [
    "durations = []\n",
    "for d in duration:\n",
    "    durations.append(d.get_text().strip())"
   ]
  },
  {
   "cell_type": "code",
   "execution_count": 222,
   "id": "7a95eb4b-afc2-4bdd-9fff-a0f7c36b7a60",
   "metadata": {},
   "outputs": [
    {
     "name": "stdout",
     "output_type": "stream",
     "text": [
      "['5 Days & 4 Nights', '5 Days & 4 Nights', '6 Days & 5 Nights', '5 Days & 4 Nights', '5 Days & 4 Nights', '5 Days & 4 Nights', '5 Days & 4 Nights', '6 Days & 5 Nights', '6 Days & 5 Nights', '5 Days & 4 Nights', '5 Days & 4 Nights', '6 Days & 5 Nights', '5 Days & 4 Nights', '4 Days & 3 Nights', '5 Days & 4 Nights', '5 Days & 4 Nights', '5 Days & 4 Nights', '6 Days & 5 Nights', '5 Days & 4 Nights', '6 Days & 5 Nights']\n"
     ]
    }
   ],
   "source": [
    "print(durations)"
   ]
  },
  {
   "cell_type": "code",
   "execution_count": null,
   "id": "780f9549-07e5-43b7-825f-ecc7e4619369",
   "metadata": {},
   "outputs": [],
   "source": []
  },
  {
   "cell_type": "markdown",
   "id": "d983dce0-f610-4d01-bae8-726d059e51b0",
   "metadata": {},
   "source": [
    "### Extracting `Price` from website"
   ]
  },
  {
   "cell_type": "code",
   "execution_count": 224,
   "id": "114becf5-7a81-4529-af94-5072529bda8b",
   "metadata": {},
   "outputs": [
    {
     "name": "stdout",
     "output_type": "stream",
     "text": [
      "[<p class=\"sfc3 m0 f20 fw9 priceVal at_newprice\" itemprop=\"priceSpecification\">₹ 93,000/-<span class=\"f12 pfc3 tdl ml8 at_oldprice fw4\">₹ 141,515/-</span></p>, <p class=\"sfc3 m0 f20 fw9 priceVal at_newprice\" itemprop=\"priceSpecification\">₹ 7,999/-<span class=\"f12 pfc3 tdl ml8 at_oldprice fw4\">₹ 9,142/-</span></p>, <p class=\"sfc3 m0 f20 fw9 priceVal at_newprice\" itemprop=\"priceSpecification\">₹ 15,599/-<span class=\"f12 pfc3 tdl ml8 at_oldprice fw4\">₹ 18,811/-</span></p>, <p class=\"sfc3 m0 f20 fw9 priceVal at_newprice\" itemprop=\"priceSpecification\">₹ 37,500/-<span class=\"f12 pfc3 tdl ml8 at_oldprice fw4\">₹ 85,714/-</span></p>, <p class=\"sfc3 m0 f20 fw9 priceVal at_newprice\" itemprop=\"priceSpecification\">₹ 33,200/-<span class=\"f12 pfc3 tdl ml8 at_oldprice fw4\">₹ 36,484/-</span></p>, <p class=\"sfc3 m0 f20 fw9 priceVal at_newprice\" itemprop=\"priceSpecification\">₹ 71,000/-<span class=\"f12 pfc3 tdl ml8 at_oldprice fw4\">₹ 78,022/-</span></p>, <p class=\"sfc3 m0 f20 fw9 priceVal at_newprice\" itemprop=\"priceSpecification\">₹ 22,000/-<span class=\"f12 pfc3 tdl ml8 at_oldprice fw4\">₹ 24,444/-</span></p>, <p class=\"sfc3 m0 f20 fw9 priceVal at_newprice\" itemprop=\"priceSpecification\">₹ 9,999/-<span class=\"f12 pfc3 tdl ml8 at_oldprice fw4\">₹ 10,868/-</span></p>, <p class=\"sfc3 m0 f20 fw9 priceVal at_newprice\" itemprop=\"priceSpecification\">₹ 22,000/-<span class=\"f12 pfc3 tdl ml8 at_oldprice fw4\">₹ 26,258/-</span></p>, <p class=\"sfc3 m0 f20 fw9 priceVal at_newprice\" itemprop=\"priceSpecification\">₹ 21,999/-<span class=\"f12 pfc3 tdl ml8 at_oldprice fw4\">₹ 28,110/-</span></p>, <p class=\"sfc3 m0 f20 fw9 priceVal at_newprice\" itemprop=\"priceSpecification\">₹ 40,500/-<span class=\"f12 pfc3 tdl ml8 at_oldprice fw4\">₹ 44,505/-</span></p>, <p class=\"sfc3 m0 f20 fw9 priceVal at_newprice\" itemprop=\"priceSpecification\">₹ 42,900/-<span class=\"f12 pfc3 tdl ml8 at_oldprice fw4\">₹ 47,667/-</span></p>, <p class=\"sfc3 m0 f20 fw9 priceVal at_newprice\" itemprop=\"priceSpecification\">₹ 22,000/-<span class=\"f12 pfc3 tdl ml8 at_oldprice fw4\">₹ 24,000/-</span></p>, <p class=\"sfc3 m0 f20 fw9 priceVal at_newprice\" itemprop=\"priceSpecification\">₹ 50,000/-<span class=\"f12 pfc3 tdl ml8 at_oldprice fw4\">₹ 54,945/-</span></p>, <p class=\"sfc3 m0 f20 fw9 priceVal at_newprice\" itemprop=\"priceSpecification\">₹ 20,048/-<span class=\"f12 pfc3 tdl ml8 at_oldprice fw4\">₹ 24,604/-</span></p>, <p class=\"sfc3 m0 f20 fw9 priceVal at_newprice\" itemprop=\"priceSpecification\">₹ 19,990/-<span class=\"f12 pfc3 tdl ml8 at_oldprice fw4\">₹ 29,990/-</span></p>, <p class=\"sfc3 m0 f20 fw9 priceVal at_newprice\" itemprop=\"priceSpecification\">₹ 18,079/-<span class=\"f12 pfc3 tdl ml8 at_oldprice fw4\">₹ 20,088/-</span></p>, <p class=\"sfc3 m0 f20 fw9 priceVal at_newprice\" itemprop=\"priceSpecification\">₹ 24,499/-<span class=\"f12 pfc3 tdl ml8 at_oldprice fw4\">₹ 28,160/-</span></p>]\n"
     ]
    }
   ],
   "source": [
    "price = soup.find_all(\"p\" ,class_=\"sfc3 m0 f20 fw9 priceVal at_newprice\")\n",
    "print(price)"
   ]
  },
  {
   "cell_type": "code",
   "execution_count": 225,
   "id": "d3f3b3e1-198d-4713-8c28-796229a3db6c",
   "metadata": {},
   "outputs": [],
   "source": [
    "prices = []\n",
    "for p in price:\n",
    "    prices.append(p.get_text().strip())"
   ]
  },
  {
   "cell_type": "code",
   "execution_count": 226,
   "id": "60d62ab7-e927-4678-9e93-a41f16c9eb7a",
   "metadata": {},
   "outputs": [
    {
     "name": "stdout",
     "output_type": "stream",
     "text": [
      "['₹ 93,000/-₹ 141,515/-', '₹ 7,999/-₹ 9,142/-', '₹ 15,599/-₹ 18,811/-', '₹ 37,500/-₹ 85,714/-', '₹ 33,200/-₹ 36,484/-', '₹ 71,000/-₹ 78,022/-', '₹ 22,000/-₹ 24,444/-', '₹ 9,999/-₹ 10,868/-', '₹ 22,000/-₹ 26,258/-', '₹ 21,999/-₹ 28,110/-', '₹ 40,500/-₹ 44,505/-', '₹ 42,900/-₹ 47,667/-', '₹ 22,000/-₹ 24,000/-', '₹ 50,000/-₹ 54,945/-', '₹ 20,048/-₹ 24,604/-', '₹ 19,990/-₹ 29,990/-', '₹ 18,079/-₹ 20,088/-', '₹ 24,499/-₹ 28,160/-']\n"
     ]
    }
   ],
   "source": [
    "print(prices)"
   ]
  },
  {
   "cell_type": "code",
   "execution_count": null,
   "id": "a5b6050d-ebb0-49aa-acd2-218008e1d8c6",
   "metadata": {},
   "outputs": [],
   "source": []
  },
  {
   "cell_type": "markdown",
   "id": "d03ec395-6d5d-46c7-bbd5-0ed5f63f378d",
   "metadata": {},
   "source": [
    "### Extracting ` Discount` from website"
   ]
  },
  {
   "cell_type": "code",
   "execution_count": 228,
   "id": "90c1c697-27d7-433d-bccf-c3518bd885fc",
   "metadata": {},
   "outputs": [
    {
     "name": "stdout",
     "output_type": "stream",
     "text": [
      "[<span class=\"f12 fw4 pt2 pb2 pl8 pr8 radius20 pbc1 sfcw at_discount_label\">23<!-- -->% Off</span>, <span class=\"f12 fw4 pt2 pb2 pl8 pr8 radius20 pbc1 sfcw at_discount_label\">34<!-- -->% Off</span>, <span class=\"f12 fw4 pt2 pb2 pl8 pr8 radius20 pbc1 sfcw at_discount_label\">15<!-- -->% Off</span>, <span class=\"f12 fw4 pt2 pb2 pl8 pr8 radius20 pbc1 sfcw at_discount_label\">13<!-- -->% Off</span>, <span class=\"f12 fw4 pt2 pb2 pl8 pr8 radius20 pbc1 sfcw at_discount_label\">17<!-- -->% Off</span>, <span class=\"f12 fw4 pt2 pb2 pl8 pr8 radius20 pbc1 sfcw at_discount_label\">56<!-- -->% Off</span>, <span class=\"f12 fw4 pt2 pb2 pl8 pr8 radius20 pbc1 sfcw at_discount_label\">9<!-- -->% Off</span>, <span class=\"f12 fw4 pt2 pb2 pl8 pr8 radius20 pbc1 sfcw at_discount_label\">9<!-- -->% Off</span>, <span class=\"f12 fw4 pt2 pb2 pl8 pr8 radius20 pbc1 sfcw at_discount_label\">10<!-- -->% Off</span>, <span class=\"f12 fw4 pt2 pb2 pl8 pr8 radius20 pbc1 sfcw at_discount_label\">8<!-- -->% Off</span>, <span class=\"f12 fw4 pt2 pb2 pl8 pr8 radius20 pbc1 sfcw at_discount_label\">16<!-- -->% Off</span>, <span class=\"f12 fw4 pt2 pb2 pl8 pr8 radius20 pbc1 sfcw at_discount_label\">22<!-- -->% Off</span>, <span class=\"f12 fw4 pt2 pb2 pl8 pr8 radius20 pbc1 sfcw at_discount_label\">9<!-- -->% Off</span>, <span class=\"f12 fw4 pt2 pb2 pl8 pr8 radius20 pbc1 sfcw at_discount_label\">10<!-- -->% Off</span>, <span class=\"f12 fw4 pt2 pb2 pl8 pr8 radius20 pbc1 sfcw at_discount_label\">8<!-- -->% Off</span>, <span class=\"f12 fw4 pt2 pb2 pl8 pr8 radius20 pbc1 sfcw at_discount_label\">9<!-- -->% Off</span>, <span class=\"f12 fw4 pt2 pb2 pl8 pr8 radius20 pbc1 sfcw at_discount_label\">19<!-- -->% Off</span>, <span class=\"f12 fw4 pt2 pb2 pl8 pr8 radius20 pbc1 sfcw at_discount_label\">33<!-- -->% Off</span>, <span class=\"f12 fw4 pt2 pb2 pl8 pr8 radius20 pbc1 sfcw at_discount_label\">10<!-- -->% Off</span>, <span class=\"f12 fw4 pt2 pb2 pl8 pr8 radius20 pbc1 sfcw at_discount_label\">13<!-- -->% Off</span>]\n"
     ]
    }
   ],
   "source": [
    "dis = soup.find_all(\"span\" ,class_=\"f12 fw4 pt2 pb2 pl8 pr8 radius20 pbc1 sfcw at_discount_label\")\n",
    "print(dis)"
   ]
  },
  {
   "cell_type": "code",
   "execution_count": 229,
   "id": "219b7758-696a-4f70-ac6a-255acb0b3dc6",
   "metadata": {},
   "outputs": [],
   "source": [
    "discount = []\n",
    "for d in dis:\n",
    "    discount.append(d.get_text().strip())"
   ]
  },
  {
   "cell_type": "code",
   "execution_count": 230,
   "id": "2c92121a-3119-4cd6-82be-66cbe39de8a6",
   "metadata": {},
   "outputs": [
    {
     "name": "stdout",
     "output_type": "stream",
     "text": [
      "['23% Off', '34% Off', '15% Off', '13% Off', '17% Off', '56% Off', '9% Off', '9% Off', '10% Off', '8% Off', '16% Off', '22% Off', '9% Off', '10% Off', '8% Off', '9% Off', '19% Off', '33% Off', '10% Off', '13% Off']\n"
     ]
    }
   ],
   "source": [
    "print(discount)"
   ]
  },
  {
   "cell_type": "code",
   "execution_count": null,
   "id": "c203162b-5201-4fc2-9da7-09b778063028",
   "metadata": {},
   "outputs": [],
   "source": []
  },
  {
   "cell_type": "markdown",
   "id": "75e26082-f75d-407b-8769-059a4bd1f5a6",
   "metadata": {},
   "source": [
    "### Extracting `Hotel_Star`  from website "
   ]
  },
  {
   "cell_type": "code",
   "execution_count": 232,
   "id": "304d7837-2bf0-430f-8f1b-de28477ba923",
   "metadata": {},
   "outputs": [
    {
     "name": "stdout",
     "output_type": "stream",
     "text": [
      "[<div class=\"col-12 p8 flex absolute t142 wfull\"><div class=\"overflowh\"><div class=\"row row-\"><ul class=\"package-incexc-list at_packageincexc-list\"><li class=\"icon-box relative\"><span class=\"icon-box\"></span><p class=\"mb0\">Upto 5 Stars</p></li><li class=\"icon-box relative\"><span class=\"icon-box\"></span><p class=\"mb0\">Meals</p></li><li class=\"not-included relative\"><span class=\"icon-box\"></span><p class=\"mb0\">Sightseeing</p></li></ul></div></div><div class=\"tooltipCommon flex cursorP text-center sfc1 f12 alignCenter justifyCenter _2DEdEQx\">+<!-- -->2<!-- --> more<div class=\"_1IDFBSq tooltipBox z3 sbcw\"><div class=\"m0 p0 pfc3 text-left\"><span class=\"ellipsis f12 pt3 pb3 block _1jgRrdA\">Stay Included</span><span class=\"ellipsis f12 pt3 pb3 block _1jgRrdA\">Transfers</span></div><span class=\"_1gJcJhF tooltipArrow 1\"></span></div></div></div>, <div class=\"col-12 p8 flex absolute t142 wfull\"><div class=\"overflowh\"><div class=\"row row-\"><ul class=\"package-incexc-list at_packageincexc-list\"><li class=\"icon-box relative\"><span class=\"icon-box\"></span><p class=\"mb0\">Upto 2 Stars</p></li><li class=\"icon-box relative\"><span class=\"icon-box\"></span><p class=\"mb0\">Meals</p></li><li class=\"icon-box relative\"><span class=\"icon-box\"></span><p class=\"mb0\">Sightseeing</p></li></ul></div></div><div class=\"tooltipCommon flex cursorP text-center sfc1 f12 alignCenter justifyCenter _2DEdEQx\">+<!-- -->2<!-- --> more<div class=\"_1IDFBSq tooltipBox z3 sbcw\"><div class=\"m0 p0 pfc3 text-left\"><span class=\"ellipsis f12 pt3 pb3 block _1jgRrdA\">Airport Pickup-Drop</span><span class=\"ellipsis f12 pt3 pb3 block _1jgRrdA\">Private Cab</span></div><span class=\"_1gJcJhF tooltipArrow 1\"></span></div></div></div>, <div class=\"col-12 p8 flex absolute t142 wfull\"><div class=\"overflowh\"><div class=\"row row-\"><ul class=\"package-incexc-list at_packageincexc-list\"><li class=\"icon-box relative\"><span class=\"icon-box\"></span><p class=\"mb0\">Upto 3 Stars</p></li><li class=\"icon-box relative\"><span class=\"icon-box\"></span><p class=\"mb0\">Meals</p></li><li class=\"icon-box relative\"><span class=\"icon-box\"></span><p class=\"mb0\">Sightseeing</p></li></ul></div></div><div class=\"tooltipCommon flex cursorP text-center sfc1 f12 alignCenter justifyCenter _2DEdEQx\">+<!-- -->2<!-- --> more<div class=\"_1IDFBSq tooltipBox z3 sbcw\"><div class=\"m0 p0 pfc3 text-left\"><span class=\"ellipsis f12 pt3 pb3 block _1jgRrdA\">Transfers</span><span class=\"ellipsis f12 pt3 pb3 block _1jgRrdA\">Watersports</span></div><span class=\"_1gJcJhF tooltipArrow 1\"></span></div></div></div>, <div class=\"col-12 p8 flex absolute t142 wfull\"><div class=\"overflowh\"><div class=\"row row-\"><ul class=\"package-incexc-list at_packageincexc-list\"><li class=\"icon-box relative\"><span class=\"icon-box\"></span><p class=\"mb0\">Upto 4 Stars</p></li><li class=\"icon-box relative\"><span class=\"icon-box\"></span><p class=\"mb0\">Meals</p></li><li class=\"icon-box relative\"><span class=\"icon-box\"></span><p class=\"mb0\">Sightseeing</p></li></ul></div></div><div class=\"tooltipCommon flex cursorP text-center sfc1 f12 alignCenter justifyCenter _2DEdEQx\">+<!-- -->2<!-- --> more<div class=\"_1IDFBSq tooltipBox z3 sbcw\"><div class=\"m0 p0 pfc3 text-left\"><span class=\"ellipsis f12 pt3 pb3 block _1jgRrdA\">Stay Included</span><span class=\"ellipsis f12 pt3 pb3 block _1jgRrdA\">Transfers</span></div><span class=\"_1gJcJhF tooltipArrow 1\"></span></div></div></div>, <div class=\"col-12 p8 flex absolute t142 wfull\"><div class=\"overflowh\"><div class=\"row row-\"><ul class=\"package-incexc-list at_packageincexc-list\"><li class=\"icon-box relative\"><span class=\"icon-box\"></span><p class=\"mb0\">Upto 3 Stars</p></li><li class=\"icon-box relative\"><span class=\"icon-box\"></span><p class=\"mb0\">Meals</p></li><li class=\"icon-box relative\"><span class=\"icon-box\"></span><p class=\"mb0\">Sightseeing</p></li></ul></div></div><div class=\"tooltipCommon flex cursorP text-center sfc1 f12 alignCenter justifyCenter _2DEdEQx\">+<!-- -->2<!-- --> more<div class=\"_1IDFBSq tooltipBox z3 sbcw\"><div class=\"m0 p0 pfc3 text-left\"><span class=\"ellipsis f12 pt3 pb3 block _1jgRrdA\">Stay Included</span><span class=\"ellipsis f12 pt3 pb3 block _1jgRrdA\">Transfers</span></div><span class=\"_1gJcJhF tooltipArrow 1\"></span></div></div></div>, <div class=\"col-12 p8 flex absolute t142 wfull\"><div class=\"overflowh\"><div class=\"row row-\"><ul class=\"package-incexc-list at_packageincexc-list\"><li class=\"icon-box relative\"><span class=\"icon-box\"></span><p class=\"mb0\">Upto 4 Stars</p></li><li class=\"icon-box relative\"><span class=\"icon-box\"></span><p class=\"mb0\">Meals</p></li><li class=\"icon-box relative\"><span class=\"icon-box\"></span><p class=\"mb0\">Sightseeing</p></li></ul></div></div><div class=\"tooltipCommon flex cursorP text-center sfc1 f12 alignCenter justifyCenter _2DEdEQx\">+<!-- -->2<!-- --> more<div class=\"_1IDFBSq tooltipBox z3 sbcw\"><div class=\"m0 p0 pfc3 text-left\"><span class=\"ellipsis f12 pt3 pb3 block _1jgRrdA\">Stay Included</span><span class=\"ellipsis f12 pt3 pb3 block _1jgRrdA\">Transfers</span></div><span class=\"_1gJcJhF tooltipArrow 1\"></span></div></div></div>, <div class=\"col-12 p8 flex absolute t142 wfull\"><div class=\"overflowh\"><div class=\"row row-\"><ul class=\"package-incexc-list at_packageincexc-list\"><li class=\"icon-box relative\"><span class=\"icon-box\"></span><p class=\"mb0\">Upto 3 Stars</p></li><li class=\"icon-box relative\"><span class=\"icon-box\"></span><p class=\"mb0\">Meals</p></li><li class=\"icon-box relative\"><span class=\"icon-box\"></span><p class=\"mb0\">Sightseeing</p></li></ul></div></div><div class=\"tooltipCommon flex cursorP text-center sfc1 f12 alignCenter justifyCenter _2DEdEQx\">+<!-- -->2<!-- --> more<div class=\"_1IDFBSq tooltipBox z3 sbcw\"><div class=\"m0 p0 pfc3 text-left\"><span class=\"ellipsis f12 pt3 pb3 block _1jgRrdA\">Transfers</span><span class=\"ellipsis f12 pt3 pb3 block _1jgRrdA\">Honeymoon freebies</span></div><span class=\"_1gJcJhF tooltipArrow 1\"></span></div></div></div>, <div class=\"col-12 p8 flex absolute t142 wfull\"><div class=\"overflowh\"><div class=\"row row-\"><ul class=\"package-incexc-list at_packageincexc-list\"><li class=\"icon-box relative\"><span class=\"icon-box\"></span><p class=\"mb0\">Upto 3 Stars</p></li><li class=\"icon-box relative\"><span class=\"icon-box\"></span><p class=\"mb0\">Meals</p></li><li class=\"icon-box relative\"><span class=\"icon-box\"></span><p class=\"mb0\">Sightseeing</p></li></ul></div></div><div class=\"tooltipCommon flex cursorP text-center sfc1 f12 alignCenter justifyCenter _2DEdEQx\">+<!-- -->2<!-- --> more<div class=\"_1IDFBSq tooltipBox z3 sbcw\"><div class=\"m0 p0 pfc3 text-left\"><span class=\"ellipsis f12 pt3 pb3 block _1jgRrdA\">Private Cab</span><span class=\"ellipsis f12 pt3 pb3 block _1jgRrdA\">Airport Pickup-Drop</span></div><span class=\"_1gJcJhF tooltipArrow 1\"></span></div></div></div>, <div class=\"col-12 p8 flex absolute t142 wfull\"><div class=\"overflowh\"><div class=\"row row-\"><ul class=\"package-incexc-list at_packageincexc-list\"><li class=\"icon-box relative\"><span class=\"icon-box\"></span><p class=\"mb0\">Upto 3 Stars</p></li><li class=\"icon-box relative\"><span class=\"icon-box\"></span><p class=\"mb0\">Meals</p></li><li class=\"icon-box relative\"><span class=\"icon-box\"></span><p class=\"mb0\">Sightseeing</p></li></ul></div></div><div class=\"tooltipCommon flex cursorP text-center sfc1 f12 alignCenter justifyCenter _2DEdEQx\">+<!-- -->2<!-- --> more<div class=\"_1IDFBSq tooltipBox z3 sbcw\"><div class=\"m0 p0 pfc3 text-left\"><span class=\"ellipsis f12 pt3 pb3 block _1jgRrdA\">Airport Pickup-Drop</span><span class=\"ellipsis f12 pt3 pb3 block _1jgRrdA\">Private Cab</span></div><span class=\"_1gJcJhF tooltipArrow 1\"></span></div></div></div>, <div class=\"col-12 p8 flex absolute t142 wfull\"><div class=\"overflowh\"><div class=\"row row-\"><ul class=\"package-incexc-list at_packageincexc-list\"><li class=\"icon-box relative\"><span class=\"icon-box\"></span><p class=\"mb0\">Upto 3 Stars</p></li><li class=\"icon-box relative\"><span class=\"icon-box\"></span><p class=\"mb0\">Meals</p></li><li class=\"icon-box relative\"><span class=\"icon-box\"></span><p class=\"mb0\">Sightseeing</p></li></ul></div></div><div class=\"tooltipCommon flex cursorP text-center sfc1 f12 alignCenter justifyCenter _2DEdEQx\">+<!-- -->3<!-- --> more<div class=\"_1IDFBSq tooltipBox z3 sbcw\"><div class=\"m0 p0 pfc3 text-left\"><span class=\"ellipsis f12 pt3 pb3 block _1jgRrdA\">Airport Transfer</span><span class=\"ellipsis f12 pt3 pb3 block _1jgRrdA\">Private Cab</span><span class=\"ellipsis f12 pt3 pb3 block _1jgRrdA\">Camp Stay</span></div><span class=\"_1gJcJhF tooltipArrow 1\"></span></div></div></div>, <div class=\"col-12 p8 flex absolute t142 wfull\"><div class=\"overflowh\"><div class=\"row row-\"><ul class=\"package-incexc-list at_packageincexc-list\"><li class=\"not-included relative\"><span class=\"icon-box\"></span><p class=\"mb0\">Hotels</p></li><li class=\"icon-box relative\"><span class=\"icon-box\"></span><p class=\"mb0\">Meals</p></li><li class=\"icon-box relative\"><span class=\"icon-box\"></span><p class=\"mb0\">Sightseeing</p></li></ul></div></div><div class=\"tooltipCommon flex cursorP text-center sfc1 f12 alignCenter justifyCenter _2DEdEQx\">+<!-- -->2<!-- --> more<div class=\"_1IDFBSq tooltipBox z3 sbcw\"><div class=\"m0 p0 pfc3 text-left\"><span class=\"ellipsis f12 pt3 pb3 block _1jgRrdA\">Stay Included</span><span class=\"ellipsis f12 pt3 pb3 block _1jgRrdA\">Transfers</span></div><span class=\"_1gJcJhF tooltipArrow 1\"></span></div></div></div>, <div class=\"col-12 p8 flex absolute t142 wfull\"><div class=\"overflowh\"><div class=\"row row-\"><ul class=\"package-incexc-list at_packageincexc-list\"><li class=\"icon-box relative\"><span class=\"icon-box\"></span><p class=\"mb0\">Upto 4 Stars</p></li><li class=\"icon-box relative\"><span class=\"icon-box\"></span><p class=\"mb0\">Meals</p></li><li class=\"icon-box relative\"><span class=\"icon-box\"></span><p class=\"mb0\">Sightseeing</p></li></ul></div></div><div class=\"tooltipCommon flex cursorP text-center sfc1 f12 alignCenter justifyCenter _2DEdEQx\">+<!-- -->2<!-- --> more<div class=\"_1IDFBSq tooltipBox z3 sbcw\"><div class=\"m0 p0 pfc3 text-left\"><span class=\"ellipsis f12 pt3 pb3 block _1jgRrdA\">Stay Included</span><span class=\"ellipsis f12 pt3 pb3 block _1jgRrdA\">Transfers</span></div><span class=\"_1gJcJhF tooltipArrow 1\"></span></div></div></div>, <div class=\"col-12 p8 flex absolute t142 wfull\"><div class=\"overflowh\"><div class=\"row row-\"><ul class=\"package-incexc-list at_packageincexc-list\"><li class=\"icon-box relative\"><span class=\"icon-box\"></span><p class=\"mb0\">Upto 3 Stars</p></li><li class=\"icon-box relative\"><span class=\"icon-box\"></span><p class=\"mb0\">Meals</p></li><li class=\"icon-box relative\"><span class=\"icon-box\"></span><p class=\"mb0\">Sightseeing</p></li></ul></div></div><div class=\"tooltipCommon flex cursorP text-center sfc1 f12 alignCenter justifyCenter _2DEdEQx\">+<!-- -->3<!-- --> more<div class=\"_1IDFBSq tooltipBox z3 sbcw\"><div class=\"m0 p0 pfc3 text-left\"><span class=\"ellipsis f12 pt3 pb3 block _1jgRrdA\">Airport Pickup-Drop</span><span class=\"ellipsis f12 pt3 pb3 block _1jgRrdA\">Private Cab</span><span class=\"ellipsis f12 pt3 pb3 block _1jgRrdA\">Floral Decoration</span></div><span class=\"_1gJcJhF tooltipArrow 1\"></span></div></div></div>, <div class=\"col-12 p8 flex absolute t142 wfull\"><div class=\"overflowh\"><div class=\"row row-\"><ul class=\"package-incexc-list at_packageincexc-list\"><li class=\"icon-box relative\"><span class=\"icon-box\"></span><p class=\"mb0\">Upto 3 Stars</p></li><li class=\"icon-box relative\"><span class=\"icon-box\"></span><p class=\"mb0\">Meals</p></li><li class=\"icon-box relative\"><span class=\"icon-box\"></span><p class=\"mb0\">Sightseeing</p></li></ul></div></div><div class=\"tooltipCommon flex cursorP text-center sfc1 f12 alignCenter justifyCenter _2DEdEQx\">+<!-- -->2<!-- --> more<div class=\"_1IDFBSq tooltipBox z3 sbcw\"><div class=\"m0 p0 pfc3 text-left\"><span class=\"ellipsis f12 pt3 pb3 block _1jgRrdA\">Transfers</span><span class=\"ellipsis f12 pt3 pb3 block _1jgRrdA\">Stay Included</span></div><span class=\"_1gJcJhF tooltipArrow 1\"></span></div></div></div>, <div class=\"col-12 p8 flex absolute t142 wfull\"><div class=\"overflowh\"><div class=\"row row-\"><ul class=\"package-incexc-list at_packageincexc-list\"><li class=\"icon-box relative\"><span class=\"icon-box\"></span><p class=\"mb0\">Upto 4 Stars</p></li><li class=\"icon-box relative\"><span class=\"icon-box\"></span><p class=\"mb0\">Meals</p></li><li class=\"icon-box relative\"><span class=\"icon-box\"></span><p class=\"mb0\">Sightseeing</p></li></ul></div></div><div class=\"tooltipCommon flex cursorP text-center sfc1 f12 alignCenter justifyCenter _2DEdEQx\">+<!-- -->4<!-- --> more<div class=\"_1IDFBSq tooltipBox z3 sbcw\"><div class=\"m0 p0 pfc3 text-left\"><span class=\"ellipsis f12 pt3 pb3 block _1jgRrdA\">Houseboat</span><span class=\"ellipsis f12 pt3 pb3 block _1jgRrdA\">Safari</span><span class=\"ellipsis f12 pt3 pb3 block _1jgRrdA\">Airport Pickup-Drop</span><span class=\"ellipsis f12 pt3 pb3 block _1jgRrdA\">Private Cab</span></div><span class=\"_1gJcJhF tooltipArrow 1\"></span></div></div></div>, <div class=\"col-12 p8 flex absolute t142 wfull\"><div class=\"overflowh\"><div class=\"row row-\"><ul class=\"package-incexc-list at_packageincexc-list\"><li class=\"icon-box relative\"><span class=\"icon-box\"></span><p class=\"mb0\">Upto 5 Stars</p></li><li class=\"icon-box relative\"><span class=\"icon-box\"></span><p class=\"mb0\">Meals</p></li><li class=\"icon-box relative\"><span class=\"icon-box\"></span><p class=\"mb0\">Sightseeing</p></li></ul></div></div><div class=\"tooltipCommon flex cursorP text-center sfc1 f12 alignCenter justifyCenter _2DEdEQx\">+<!-- -->3<!-- --> more<div class=\"_1IDFBSq tooltipBox z3 sbcw\"><div class=\"m0 p0 pfc3 text-left\"><span class=\"ellipsis f12 pt3 pb3 block _1jgRrdA\">Transfers</span><span class=\"ellipsis f12 pt3 pb3 block _1jgRrdA\">Watersports</span><span class=\"ellipsis f12 pt3 pb3 block _1jgRrdA\">Entry fee charges</span></div><span class=\"_1gJcJhF tooltipArrow 1\"></span></div></div></div>, <div class=\"col-12 p8 flex absolute t142 wfull\"><div class=\"overflowh\"><div class=\"row row-\"><ul class=\"package-incexc-list at_packageincexc-list\"><li class=\"icon-box relative\"><span class=\"icon-box\"></span><p class=\"mb0\">Upto 2 Stars</p></li><li class=\"icon-box relative\"><span class=\"icon-box\"></span><p class=\"mb0\">Meals</p></li><li class=\"icon-box relative\"><span class=\"icon-box\"></span><p class=\"mb0\">Sightseeing</p></li></ul></div></div><div class=\"tooltipCommon flex cursorP text-center sfc1 f12 alignCenter justifyCenter _2DEdEQx\">+<!-- -->1<!-- --> more<div class=\"_1IDFBSq tooltipBox z3 sbcw\"><div class=\"m0 p0 pfc3 text-left\"><span class=\"ellipsis f12 pt3 pb3 block _1jgRrdA\">Transfers</span></div><span class=\"_1gJcJhF tooltipArrow 1\"></span></div></div></div>, <div class=\"col-12 p8 flex absolute t142 wfull\"><div class=\"overflowh\"><div class=\"row row-\"><ul class=\"package-incexc-list at_packageincexc-list\"><li class=\"icon-box relative\"><span class=\"icon-box\"></span><p class=\"mb0\">Upto 3 Stars</p></li><li class=\"icon-box relative\"><span class=\"icon-box\"></span><p class=\"mb0\">Meals</p></li><li class=\"icon-box relative\"><span class=\"icon-box\"></span><p class=\"mb0\">Sightseeing</p></li></ul></div></div><div class=\"tooltipCommon flex cursorP text-center sfc1 f12 alignCenter justifyCenter _2DEdEQx\">+<!-- -->4<!-- --> more<div class=\"_1IDFBSq tooltipBox z3 sbcw\"><div class=\"m0 p0 pfc3 text-left\"><span class=\"ellipsis f12 pt3 pb3 block _1jgRrdA\">Jeep Safari</span><span class=\"ellipsis f12 pt3 pb3 block _1jgRrdA\">English Speaking Driver</span><span class=\"ellipsis f12 pt3 pb3 block _1jgRrdA\">Transfers</span><span class=\"ellipsis f12 pt3 pb3 block _1jgRrdA\">Stay Included</span></div><span class=\"_1gJcJhF tooltipArrow 1\"></span></div></div></div>]\n"
     ]
    }
   ],
   "source": [
    "hotel = soup.find_all(\"div\" ,class_=\"col-12 p8 flex absolute t142 wfull\")\n",
    "print(hotel)"
   ]
  },
  {
   "cell_type": "code",
   "execution_count": 233,
   "id": "5f84a282-5b3f-4a2f-9a68-3d57caf9a758",
   "metadata": {},
   "outputs": [],
   "source": [
    "hotel_type = []\n",
    "for ht in hotel:\n",
    "    hotel_type.append(ht.get_text().strip())"
   ]
  },
  {
   "cell_type": "code",
   "execution_count": 234,
   "id": "069aa725-0f1c-416e-a4f5-35d236be3bb0",
   "metadata": {},
   "outputs": [
    {
     "name": "stdout",
     "output_type": "stream",
     "text": [
      "['Upto 5 StarsMealsSightseeing+2 moreStay IncludedTransfers', 'Upto 2 StarsMealsSightseeing+2 moreAirport Pickup-DropPrivate Cab', 'Upto 3 StarsMealsSightseeing+2 moreTransfersWatersports', 'Upto 4 StarsMealsSightseeing+2 moreStay IncludedTransfers', 'Upto 3 StarsMealsSightseeing+2 moreStay IncludedTransfers', 'Upto 4 StarsMealsSightseeing+2 moreStay IncludedTransfers', 'Upto 3 StarsMealsSightseeing+2 moreTransfersHoneymoon freebies', 'Upto 3 StarsMealsSightseeing+2 morePrivate CabAirport Pickup-Drop', 'Upto 3 StarsMealsSightseeing+2 moreAirport Pickup-DropPrivate Cab', 'Upto 3 StarsMealsSightseeing+3 moreAirport TransferPrivate CabCamp Stay', 'HotelsMealsSightseeing+2 moreStay IncludedTransfers', 'Upto 4 StarsMealsSightseeing+2 moreStay IncludedTransfers', 'Upto 3 StarsMealsSightseeing+3 moreAirport Pickup-DropPrivate CabFloral Decoration', 'Upto 3 StarsMealsSightseeing+2 moreTransfersStay Included', 'Upto 4 StarsMealsSightseeing+4 moreHouseboatSafariAirport Pickup-DropPrivate Cab', 'Upto 5 StarsMealsSightseeing+3 moreTransfersWatersportsEntry fee charges', 'Upto 2 StarsMealsSightseeing+1 moreTransfers', 'Upto 3 StarsMealsSightseeing+4 moreJeep SafariEnglish Speaking DriverTransfersStay Included']\n"
     ]
    }
   ],
   "source": [
    "print(hotel_type)"
   ]
  },
  {
   "cell_type": "code",
   "execution_count": null,
   "id": "8d8502a4-9c10-4df4-a86d-43f91ae8a70c",
   "metadata": {},
   "outputs": [],
   "source": []
  },
  {
   "cell_type": "markdown",
   "id": "4b19f623-2a98-4494-bd2e-bfb7bd6f8de4",
   "metadata": {},
   "source": [
    "### Extracting ` City` form website "
   ]
  },
  {
   "cell_type": "code",
   "execution_count": 236,
   "id": "4d1e8eb8-65a4-43b8-a0e7-aad8c37a55e3",
   "metadata": {},
   "outputs": [
    {
     "name": "stdout",
     "output_type": "stream",
     "text": [
      "[<ul class=\"clearfix package-cities-list at_packagecity_list\"><li class=\"f12\">Addu City<!-- --> (5D)</li></ul>, <ul class=\"clearfix package-cities-list at_packagecity_list\"><li class=\"f12\">Maldives<!-- --> (5D)</li></ul>, <ul class=\"clearfix package-cities-list at_packagecity_list\"><li class=\"f12\">Dubai<!-- --> (6D)</li></ul>, <ul class=\"clearfix package-cities-list at_packagecity_list\"><li class=\"f12\">Goa<!-- --> (5D)</li></ul>, <ul class=\"clearfix package-cities-list at_packagecity_list\"><li class=\"f12\">Port Blair<!-- --> (3D)</li><li class=\"f12\">Havelock<!-- --> (2D)</li></ul>, <ul class=\"clearfix package-cities-list at_packagecity_list\"><li class=\"f12\">Maldives<!-- --> (5D)</li></ul>, <ul class=\"clearfix package-cities-list at_packagecity_list\"><li class=\"f12\">Port Blair<!-- --> (4D)</li><li class=\"f12\">Havelock<!-- --> (1D)</li></ul>, <ul class=\"clearfix package-cities-list at_packagecity_list\"><li class=\"f12\">Dubai<!-- --> (6D)</li></ul>, <ul class=\"clearfix package-cities-list at_packagecity_list\"><li class=\"f12\">Munnar<!-- --> (2D)</li><li class=\"f12\">Thekkady<!-- --> (1D)</li><li class=\"f12\">Alleppey<!-- --> (1D)</li><li class=\"f12\">Kochi<!-- --> (2D)</li></ul>, <ul class=\"clearfix package-cities-list at_packagecity_list\"><li class=\"f12\">Calangute<!-- --> (5D)</li></ul>, <ul class=\"clearfix package-cities-list at_packagecity_list\"><li class=\"f12\">Gangtok<!-- --> (2D)</li><li class=\"f12\">Darjeeling<!-- --> (3D)</li></ul>, <ul class=\"clearfix package-cities-list at_packagecity_list\"><li class=\"f12\">Leh<!-- --> (5D)</li><li class=\"f12\">Nubra Valley<!-- --> (1D)</li></ul>, <ul class=\"clearfix package-cities-list at_packagecity_list\"><li class=\"f12\">Mauritius<!-- --> (5D)</li></ul>, <ul class=\"clearfix package-cities-list at_packagecity_list\"><li class=\"f12\">Paris<!-- --> (4D)</li></ul>, <ul class=\"clearfix package-cities-list at_packagecity_list\"><li class=\"f12\">Gangtok<!-- --> (4D)</li><li class=\"f12\">Lachung<!-- --> (1D)</li></ul>, <ul class=\"clearfix package-cities-list at_packagecity_list\"><li class=\"f12\">Maldives<!-- --> (5D)</li></ul>, <ul class=\"clearfix package-cities-list at_packagecity_list\"><li class=\"f12\">Munnar<!-- --> (2D)</li><li class=\"f12\">Thekkady<!-- --> (1D)</li><li class=\"f12\">Alleppey<!-- --> (2D)</li></ul>, <ul class=\"clearfix package-cities-list at_packagecity_list\"><li class=\"f12\">Kuta<!-- --> (3D)</li><li class=\"f12\">Nusa Dua<!-- --> (3D)</li></ul>, <ul class=\"clearfix package-cities-list at_packagecity_list\"><li class=\"f12\">Phuntsholing<!-- --> (1D)</li><li class=\"f12\">Paro<!-- --> (2D)</li><li class=\"f12\">Thimphu<!-- --> (2D)</li></ul>, <ul class=\"clearfix package-cities-list at_packagecity_list\"><li class=\"f12\">Kaziranga<!-- --> (2D)</li><li class=\"f12\">Shillong<!-- --> (2D)</li><li class=\"f12\">Guwahati<!-- --> (2D)</li></ul>]\n"
     ]
    }
   ],
   "source": [
    "cit = soup.find_all(\"ul\" ,class_=\"clearfix package-cities-list at_packagecity_list\")\n",
    "print(cit)"
   ]
  },
  {
   "cell_type": "code",
   "execution_count": 237,
   "id": "9b06f39d-b07f-4198-81c0-72f1e028c167",
   "metadata": {},
   "outputs": [],
   "source": [
    "ci =[]\n",
    "for c in cit:\n",
    "    ci.append(c.get_text().strip())"
   ]
  },
  {
   "cell_type": "code",
   "execution_count": 238,
   "id": "18eb5250-9d27-44d3-ae5d-3203d06bf16a",
   "metadata": {},
   "outputs": [
    {
     "name": "stdout",
     "output_type": "stream",
     "text": [
      "['Addu City (5D)', 'Maldives (5D)', 'Dubai (6D)', 'Goa (5D)', 'Port Blair (3D)Havelock (2D)', 'Maldives (5D)', 'Port Blair (4D)Havelock (1D)', 'Dubai (6D)', 'Munnar (2D)Thekkady (1D)Alleppey (1D)Kochi (2D)', 'Calangute (5D)', 'Gangtok (2D)Darjeeling (3D)', 'Leh (5D)Nubra Valley (1D)', 'Mauritius (5D)', 'Paris (4D)', 'Gangtok (4D)Lachung (1D)', 'Maldives (5D)', 'Munnar (2D)Thekkady (1D)Alleppey (2D)', 'Kuta (3D)Nusa Dua (3D)', 'Phuntsholing (1D)Paro (2D)Thimphu (2D)', 'Kaziranga (2D)Shillong (2D)Guwahati (2D)']\n"
     ]
    }
   ],
   "source": [
    "print(ci)"
   ]
  },
  {
   "cell_type": "code",
   "execution_count": null,
   "id": "164ac693-4042-4c23-9708-09cd40ecc026",
   "metadata": {},
   "outputs": [],
   "source": []
  },
  {
   "cell_type": "markdown",
   "id": "41fa3a79-1c83-4a11-a790-1ed4ff0337bf",
   "metadata": {},
   "source": [
    "## Using `While loop` scraping the Data upto 51 pages  "
   ]
  },
  {
   "cell_type": "code",
   "execution_count": 240,
   "id": "5375e3f3-5f02-447f-b75a-1c519359bbf8",
   "metadata": {},
   "outputs": [],
   "source": [
    "import requests\n",
    "\n",
    "title = []\n",
    "days_nights = []\n",
    "price = []\n",
    "discount = []\n",
    "hotel_type = []\n",
    "location = []\n",
    "\n",
    "page = 1\n",
    "\n",
    "while page <= 51:\n",
    "    url = f\"https://traveltriangle.com/tour-packages/page/{page}?\"\n",
    "    res = requests.get(url)\n",
    "\n",
    "    \n",
    "    from bs4 import BeautifulSoup\n",
    "    soup = BeautifulSoup(res.content, \"html.parser\")\n",
    "    \n",
    "    titles = soup.find_all(\"span\",class_=\"fw9 m0 f16 pfc3\")\n",
    "    duration = soup.find_all(\"span\" ,class_=\"iblock sfc6\")\n",
    "    prices = soup.find_all(\"p\" ,class_=\"sfc3 m0 f20 fw9 priceVal at_newprice\")\n",
    "    dis = soup.find_all(\"span\" ,class_=\"f12 fw4 pt2 pb2 pl8 pr8 radius20 pbc1 sfcw at_discount_label\")\n",
    "    hotel = soup.find_all(\"div\" ,class_=\"col-12 p8 flex absolute t142 wfull\")\n",
    "    cit = soup.find_all(\"ul\" ,class_=\"clearfix package-cities-list at_packagecity_list\")\n",
    "    \n",
    "    for t, du, p, di, h, l in zip(titles, duration,prices, dis, hotel, cit):\n",
    "        title.append(t.get_text().strip())\n",
    "        days_nights.append(du.get_text().strip())\n",
    "        price.append(p.get_text().strip())\n",
    "        discount.append(di.get_text().strip())\n",
    "        hotel_type.append(h.get_text().strip())\n",
    "        location.append(l.get_text().strip())\n",
    "\n",
    "    page = page + 1 "
   ]
  },
  {
   "cell_type": "code",
   "execution_count": null,
   "id": "47a573cb-182a-4bc6-a7ec-cf9c8d715ffa",
   "metadata": {},
   "outputs": [],
   "source": []
  },
  {
   "cell_type": "markdown",
   "id": "822a64cb-1aa5-4185-945d-7804d7c64a63",
   "metadata": {},
   "source": [
    "## Converting into DataFrame "
   ]
  },
  {
   "cell_type": "code",
   "execution_count": 242,
   "id": "82757cd3-b8f5-4eac-81d6-f91814a2e71b",
   "metadata": {},
   "outputs": [],
   "source": [
    "df = pd.DataFrame({\"Title\":title,\n",
    "                  \"Duration\":days_nights,\n",
    "                  \"Price\":price,\n",
    "                  \"Discount\":discount,\n",
    "                  \"Hotel\":hotel_type,\n",
    "                  \"Location\":location\n",
    "                  })"
   ]
  },
  {
   "cell_type": "code",
   "execution_count": 243,
   "id": "f8a76bcf-b03d-48e3-8800-020267eb163a",
   "metadata": {},
   "outputs": [
    {
     "data": {
      "text/html": [
       "<div>\n",
       "<style scoped>\n",
       "    .dataframe tbody tr th:only-of-type {\n",
       "        vertical-align: middle;\n",
       "    }\n",
       "\n",
       "    .dataframe tbody tr th {\n",
       "        vertical-align: top;\n",
       "    }\n",
       "\n",
       "    .dataframe thead th {\n",
       "        text-align: right;\n",
       "    }\n",
       "</style>\n",
       "<table border=\"1\" class=\"dataframe\">\n",
       "  <thead>\n",
       "    <tr style=\"text-align: right;\">\n",
       "      <th></th>\n",
       "      <th>Title</th>\n",
       "      <th>Duration</th>\n",
       "      <th>Price</th>\n",
       "      <th>Discount</th>\n",
       "      <th>Hotel</th>\n",
       "      <th>Location</th>\n",
       "    </tr>\n",
       "  </thead>\n",
       "  <tbody>\n",
       "    <tr>\n",
       "      <th>0</th>\n",
       "      <td>Maldives South Palm Resort Package With Flights</td>\n",
       "      <td>5 Days &amp; 4 Nights</td>\n",
       "      <td>₹ 29,000/-₹ 32,222/-</td>\n",
       "      <td>23% Off</td>\n",
       "      <td>Upto 4 StarsMealsSightseeing+3 moreEntry fee c...</td>\n",
       "      <td>Addu City (5D)</td>\n",
       "    </tr>\n",
       "    <tr>\n",
       "      <th>1</th>\n",
       "      <td>Exclusive Bali Honeymoon Tour Packages For A M...</td>\n",
       "      <td>7 Days &amp; 6 Nights</td>\n",
       "      <td>₹ 10,500/-₹ 12,000/-</td>\n",
       "      <td>10% Off</td>\n",
       "      <td>Upto 3 StarsMealsSightseeing+1 moreTransfers</td>\n",
       "      <td>Kuta (4D)Ubud (3D)</td>\n",
       "    </tr>\n",
       "    <tr>\n",
       "      <th>2</th>\n",
       "      <td>Romantic Mussoorie Tour Package From Delhi</td>\n",
       "      <td>3 Days &amp; 2 Nights</td>\n",
       "      <td>₹ 93,000/-₹ 141,515/-</td>\n",
       "      <td>13% Off</td>\n",
       "      <td>Upto 5 StarsMealsSightseeing+2 moreStay Includ...</td>\n",
       "      <td>Mussoorie (3D)</td>\n",
       "    </tr>\n",
       "    <tr>\n",
       "      <th>3</th>\n",
       "      <td>Idyllic Maldives Honeymoon Tour Package</td>\n",
       "      <td>5 Days &amp; 4 Nights</td>\n",
       "      <td>₹ 7,999/-₹ 9,142/-</td>\n",
       "      <td>34% Off</td>\n",
       "      <td>Upto 2 StarsMealsSightseeing+2 moreAirport Pic...</td>\n",
       "      <td>Maldives (5D)</td>\n",
       "    </tr>\n",
       "    <tr>\n",
       "      <th>4</th>\n",
       "      <td>Budget-Friendly Dubai Packages From Atlantis F...</td>\n",
       "      <td>6 Days &amp; 5 Nights</td>\n",
       "      <td>₹ 15,599/-₹ 18,811/-</td>\n",
       "      <td>15% Off</td>\n",
       "      <td>Upto 3 StarsMealsSightseeing+2 moreTransfersWa...</td>\n",
       "      <td>Dubai (6D)</td>\n",
       "    </tr>\n",
       "    <tr>\n",
       "      <th>...</th>\n",
       "      <td>...</td>\n",
       "      <td>...</td>\n",
       "      <td>...</td>\n",
       "      <td>...</td>\n",
       "      <td>...</td>\n",
       "      <td>...</td>\n",
       "    </tr>\n",
       "    <tr>\n",
       "      <th>965</th>\n",
       "      <td>Sizzling Pattaya Sightseeing Tour Package</td>\n",
       "      <td>4 Days &amp; 3 Nights</td>\n",
       "      <td>₹ 33,999/-₹ 37,362/-</td>\n",
       "      <td>9% Off</td>\n",
       "      <td>Upto 4 StarsMealsSightseeing+2 moreStay Includ...</td>\n",
       "      <td>Pattaya (4D)</td>\n",
       "    </tr>\n",
       "    <tr>\n",
       "      <th>966</th>\n",
       "      <td>Idyllic Dharamshala Family Package</td>\n",
       "      <td>6 Days &amp; 5 Nights</td>\n",
       "      <td>₹ 23,400/-₹ 25,714/-</td>\n",
       "      <td>9% Off</td>\n",
       "      <td>Upto 3 StarsMealsSightseeing+2 moreStay Includ...</td>\n",
       "      <td>Dharamshala (1D)Dalhousie (2D)Amritsar (3D)</td>\n",
       "    </tr>\n",
       "    <tr>\n",
       "      <th>967</th>\n",
       "      <td>Adventurous Assam Tour Package</td>\n",
       "      <td>3 Days &amp; 2 Nights</td>\n",
       "      <td>₹ 14,000/-₹ 15,730/-</td>\n",
       "      <td>11% Off</td>\n",
       "      <td>Upto 3 StarsMealsSightseeing+4 moreJeep Safari...</td>\n",
       "      <td>Kaziranga National Park (3D)</td>\n",
       "    </tr>\n",
       "    <tr>\n",
       "      <th>968</th>\n",
       "      <td>New Zealand Queenstown, Rotorua &amp; Franz Josef ...</td>\n",
       "      <td>13 Days &amp; 12 Nights</td>\n",
       "      <td>₹ 142,000/-₹ 150,081/-</td>\n",
       "      <td>5% Off</td>\n",
       "      <td>Upto 3 StarsMealsSightseeing+2 moreAirport Pic...</td>\n",
       "      <td>Auckland (2D)Paihia (2D)Rotorua (1D)Queenstown...</td>\n",
       "    </tr>\n",
       "    <tr>\n",
       "      <th>969</th>\n",
       "      <td>Ecstatic Cambodia Vietnam Family Holiday Package</td>\n",
       "      <td>11 Days &amp; 10 Nights</td>\n",
       "      <td>₹ 55,000/-₹ 61,111/-</td>\n",
       "      <td>10% Off</td>\n",
       "      <td>Upto 3 StarsMealsSightseeing+1 moreTransfers</td>\n",
       "      <td>Hanoi (3D)Ho Chi Minh City (3D)Siem Reap (2D)P...</td>\n",
       "    </tr>\n",
       "  </tbody>\n",
       "</table>\n",
       "<p>970 rows × 6 columns</p>\n",
       "</div>"
      ],
      "text/plain": [
       "                                                 Title             Duration  \\\n",
       "0      Maldives South Palm Resort Package With Flights    5 Days & 4 Nights   \n",
       "1    Exclusive Bali Honeymoon Tour Packages For A M...    7 Days & 6 Nights   \n",
       "2           Romantic Mussoorie Tour Package From Delhi    3 Days & 2 Nights   \n",
       "3              Idyllic Maldives Honeymoon Tour Package    5 Days & 4 Nights   \n",
       "4    Budget-Friendly Dubai Packages From Atlantis F...    6 Days & 5 Nights   \n",
       "..                                                 ...                  ...   \n",
       "965          Sizzling Pattaya Sightseeing Tour Package    4 Days & 3 Nights   \n",
       "966                 Idyllic Dharamshala Family Package    6 Days & 5 Nights   \n",
       "967                     Adventurous Assam Tour Package    3 Days & 2 Nights   \n",
       "968  New Zealand Queenstown, Rotorua & Franz Josef ...  13 Days & 12 Nights   \n",
       "969   Ecstatic Cambodia Vietnam Family Holiday Package  11 Days & 10 Nights   \n",
       "\n",
       "                      Price Discount  \\\n",
       "0      ₹ 29,000/-₹ 32,222/-  23% Off   \n",
       "1      ₹ 10,500/-₹ 12,000/-  10% Off   \n",
       "2     ₹ 93,000/-₹ 141,515/-  13% Off   \n",
       "3        ₹ 7,999/-₹ 9,142/-  34% Off   \n",
       "4      ₹ 15,599/-₹ 18,811/-  15% Off   \n",
       "..                      ...      ...   \n",
       "965    ₹ 33,999/-₹ 37,362/-   9% Off   \n",
       "966    ₹ 23,400/-₹ 25,714/-   9% Off   \n",
       "967    ₹ 14,000/-₹ 15,730/-  11% Off   \n",
       "968  ₹ 142,000/-₹ 150,081/-   5% Off   \n",
       "969    ₹ 55,000/-₹ 61,111/-  10% Off   \n",
       "\n",
       "                                                 Hotel  \\\n",
       "0    Upto 4 StarsMealsSightseeing+3 moreEntry fee c...   \n",
       "1         Upto 3 StarsMealsSightseeing+1 moreTransfers   \n",
       "2    Upto 5 StarsMealsSightseeing+2 moreStay Includ...   \n",
       "3    Upto 2 StarsMealsSightseeing+2 moreAirport Pic...   \n",
       "4    Upto 3 StarsMealsSightseeing+2 moreTransfersWa...   \n",
       "..                                                 ...   \n",
       "965  Upto 4 StarsMealsSightseeing+2 moreStay Includ...   \n",
       "966  Upto 3 StarsMealsSightseeing+2 moreStay Includ...   \n",
       "967  Upto 3 StarsMealsSightseeing+4 moreJeep Safari...   \n",
       "968  Upto 3 StarsMealsSightseeing+2 moreAirport Pic...   \n",
       "969       Upto 3 StarsMealsSightseeing+1 moreTransfers   \n",
       "\n",
       "                                              Location  \n",
       "0                                       Addu City (5D)  \n",
       "1                                   Kuta (4D)Ubud (3D)  \n",
       "2                                       Mussoorie (3D)  \n",
       "3                                        Maldives (5D)  \n",
       "4                                           Dubai (6D)  \n",
       "..                                                 ...  \n",
       "965                                       Pattaya (4D)  \n",
       "966        Dharamshala (1D)Dalhousie (2D)Amritsar (3D)  \n",
       "967                       Kaziranga National Park (3D)  \n",
       "968  Auckland (2D)Paihia (2D)Rotorua (1D)Queenstown...  \n",
       "969  Hanoi (3D)Ho Chi Minh City (3D)Siem Reap (2D)P...  \n",
       "\n",
       "[970 rows x 6 columns]"
      ]
     },
     "execution_count": 243,
     "metadata": {},
     "output_type": "execute_result"
    }
   ],
   "source": [
    "df"
   ]
  },
  {
   "cell_type": "code",
   "execution_count": 244,
   "id": "974173d1-2348-4472-9a64-3d23a128ad12",
   "metadata": {},
   "outputs": [
    {
     "data": {
      "text/html": [
       "<div>\n",
       "<style scoped>\n",
       "    .dataframe tbody tr th:only-of-type {\n",
       "        vertical-align: middle;\n",
       "    }\n",
       "\n",
       "    .dataframe tbody tr th {\n",
       "        vertical-align: top;\n",
       "    }\n",
       "\n",
       "    .dataframe thead th {\n",
       "        text-align: right;\n",
       "    }\n",
       "</style>\n",
       "<table border=\"1\" class=\"dataframe\">\n",
       "  <thead>\n",
       "    <tr style=\"text-align: right;\">\n",
       "      <th></th>\n",
       "      <th>Title</th>\n",
       "      <th>Location</th>\n",
       "      <th>Duration</th>\n",
       "      <th>Price</th>\n",
       "      <th>Discount</th>\n",
       "      <th>Hotel</th>\n",
       "    </tr>\n",
       "  </thead>\n",
       "  <tbody>\n",
       "    <tr>\n",
       "      <th>0</th>\n",
       "      <td>Maldives South Palm Resort Package With Flights</td>\n",
       "      <td>Addu City (5D)</td>\n",
       "      <td>5 Days &amp; 4 Nights</td>\n",
       "      <td>₹ 29,000/-₹ 32,222/-</td>\n",
       "      <td>23% Off</td>\n",
       "      <td>Upto 4 StarsMealsSightseeing+3 moreEntry fee c...</td>\n",
       "    </tr>\n",
       "    <tr>\n",
       "      <th>1</th>\n",
       "      <td>Exclusive Bali Honeymoon Tour Packages For A M...</td>\n",
       "      <td>Kuta (4D)Ubud (3D)</td>\n",
       "      <td>7 Days &amp; 6 Nights</td>\n",
       "      <td>₹ 10,500/-₹ 12,000/-</td>\n",
       "      <td>10% Off</td>\n",
       "      <td>Upto 3 StarsMealsSightseeing+1 moreTransfers</td>\n",
       "    </tr>\n",
       "    <tr>\n",
       "      <th>2</th>\n",
       "      <td>Romantic Mussoorie Tour Package From Delhi</td>\n",
       "      <td>Mussoorie (3D)</td>\n",
       "      <td>3 Days &amp; 2 Nights</td>\n",
       "      <td>₹ 93,000/-₹ 141,515/-</td>\n",
       "      <td>13% Off</td>\n",
       "      <td>Upto 5 StarsMealsSightseeing+2 moreStay Includ...</td>\n",
       "    </tr>\n",
       "    <tr>\n",
       "      <th>3</th>\n",
       "      <td>Idyllic Maldives Honeymoon Tour Package</td>\n",
       "      <td>Maldives (5D)</td>\n",
       "      <td>5 Days &amp; 4 Nights</td>\n",
       "      <td>₹ 7,999/-₹ 9,142/-</td>\n",
       "      <td>34% Off</td>\n",
       "      <td>Upto 2 StarsMealsSightseeing+2 moreAirport Pic...</td>\n",
       "    </tr>\n",
       "    <tr>\n",
       "      <th>4</th>\n",
       "      <td>Budget-Friendly Dubai Packages From Atlantis F...</td>\n",
       "      <td>Dubai (6D)</td>\n",
       "      <td>6 Days &amp; 5 Nights</td>\n",
       "      <td>₹ 15,599/-₹ 18,811/-</td>\n",
       "      <td>15% Off</td>\n",
       "      <td>Upto 3 StarsMealsSightseeing+2 moreTransfersWa...</td>\n",
       "    </tr>\n",
       "    <tr>\n",
       "      <th>...</th>\n",
       "      <td>...</td>\n",
       "      <td>...</td>\n",
       "      <td>...</td>\n",
       "      <td>...</td>\n",
       "      <td>...</td>\n",
       "      <td>...</td>\n",
       "    </tr>\n",
       "    <tr>\n",
       "      <th>965</th>\n",
       "      <td>Sizzling Pattaya Sightseeing Tour Package</td>\n",
       "      <td>Pattaya (4D)</td>\n",
       "      <td>4 Days &amp; 3 Nights</td>\n",
       "      <td>₹ 33,999/-₹ 37,362/-</td>\n",
       "      <td>9% Off</td>\n",
       "      <td>Upto 4 StarsMealsSightseeing+2 moreStay Includ...</td>\n",
       "    </tr>\n",
       "    <tr>\n",
       "      <th>966</th>\n",
       "      <td>Idyllic Dharamshala Family Package</td>\n",
       "      <td>Dharamshala (1D)Dalhousie (2D)Amritsar (3D)</td>\n",
       "      <td>6 Days &amp; 5 Nights</td>\n",
       "      <td>₹ 23,400/-₹ 25,714/-</td>\n",
       "      <td>9% Off</td>\n",
       "      <td>Upto 3 StarsMealsSightseeing+2 moreStay Includ...</td>\n",
       "    </tr>\n",
       "    <tr>\n",
       "      <th>967</th>\n",
       "      <td>Adventurous Assam Tour Package</td>\n",
       "      <td>Kaziranga National Park (3D)</td>\n",
       "      <td>3 Days &amp; 2 Nights</td>\n",
       "      <td>₹ 14,000/-₹ 15,730/-</td>\n",
       "      <td>11% Off</td>\n",
       "      <td>Upto 3 StarsMealsSightseeing+4 moreJeep Safari...</td>\n",
       "    </tr>\n",
       "    <tr>\n",
       "      <th>968</th>\n",
       "      <td>New Zealand Queenstown, Rotorua &amp; Franz Josef ...</td>\n",
       "      <td>Auckland (2D)Paihia (2D)Rotorua (1D)Queenstown...</td>\n",
       "      <td>13 Days &amp; 12 Nights</td>\n",
       "      <td>₹ 142,000/-₹ 150,081/-</td>\n",
       "      <td>5% Off</td>\n",
       "      <td>Upto 3 StarsMealsSightseeing+2 moreAirport Pic...</td>\n",
       "    </tr>\n",
       "    <tr>\n",
       "      <th>969</th>\n",
       "      <td>Ecstatic Cambodia Vietnam Family Holiday Package</td>\n",
       "      <td>Hanoi (3D)Ho Chi Minh City (3D)Siem Reap (2D)P...</td>\n",
       "      <td>11 Days &amp; 10 Nights</td>\n",
       "      <td>₹ 55,000/-₹ 61,111/-</td>\n",
       "      <td>10% Off</td>\n",
       "      <td>Upto 3 StarsMealsSightseeing+1 moreTransfers</td>\n",
       "    </tr>\n",
       "  </tbody>\n",
       "</table>\n",
       "<p>970 rows × 6 columns</p>\n",
       "</div>"
      ],
      "text/plain": [
       "                                                 Title  \\\n",
       "0      Maldives South Palm Resort Package With Flights   \n",
       "1    Exclusive Bali Honeymoon Tour Packages For A M...   \n",
       "2           Romantic Mussoorie Tour Package From Delhi   \n",
       "3              Idyllic Maldives Honeymoon Tour Package   \n",
       "4    Budget-Friendly Dubai Packages From Atlantis F...   \n",
       "..                                                 ...   \n",
       "965          Sizzling Pattaya Sightseeing Tour Package   \n",
       "966                 Idyllic Dharamshala Family Package   \n",
       "967                     Adventurous Assam Tour Package   \n",
       "968  New Zealand Queenstown, Rotorua & Franz Josef ...   \n",
       "969   Ecstatic Cambodia Vietnam Family Holiday Package   \n",
       "\n",
       "                                              Location             Duration  \\\n",
       "0                                       Addu City (5D)    5 Days & 4 Nights   \n",
       "1                                   Kuta (4D)Ubud (3D)    7 Days & 6 Nights   \n",
       "2                                       Mussoorie (3D)    3 Days & 2 Nights   \n",
       "3                                        Maldives (5D)    5 Days & 4 Nights   \n",
       "4                                           Dubai (6D)    6 Days & 5 Nights   \n",
       "..                                                 ...                  ...   \n",
       "965                                       Pattaya (4D)    4 Days & 3 Nights   \n",
       "966        Dharamshala (1D)Dalhousie (2D)Amritsar (3D)    6 Days & 5 Nights   \n",
       "967                       Kaziranga National Park (3D)    3 Days & 2 Nights   \n",
       "968  Auckland (2D)Paihia (2D)Rotorua (1D)Queenstown...  13 Days & 12 Nights   \n",
       "969  Hanoi (3D)Ho Chi Minh City (3D)Siem Reap (2D)P...  11 Days & 10 Nights   \n",
       "\n",
       "                      Price Discount  \\\n",
       "0      ₹ 29,000/-₹ 32,222/-  23% Off   \n",
       "1      ₹ 10,500/-₹ 12,000/-  10% Off   \n",
       "2     ₹ 93,000/-₹ 141,515/-  13% Off   \n",
       "3        ₹ 7,999/-₹ 9,142/-  34% Off   \n",
       "4      ₹ 15,599/-₹ 18,811/-  15% Off   \n",
       "..                      ...      ...   \n",
       "965    ₹ 33,999/-₹ 37,362/-   9% Off   \n",
       "966    ₹ 23,400/-₹ 25,714/-   9% Off   \n",
       "967    ₹ 14,000/-₹ 15,730/-  11% Off   \n",
       "968  ₹ 142,000/-₹ 150,081/-   5% Off   \n",
       "969    ₹ 55,000/-₹ 61,111/-  10% Off   \n",
       "\n",
       "                                                 Hotel  \n",
       "0    Upto 4 StarsMealsSightseeing+3 moreEntry fee c...  \n",
       "1         Upto 3 StarsMealsSightseeing+1 moreTransfers  \n",
       "2    Upto 5 StarsMealsSightseeing+2 moreStay Includ...  \n",
       "3    Upto 2 StarsMealsSightseeing+2 moreAirport Pic...  \n",
       "4    Upto 3 StarsMealsSightseeing+2 moreTransfersWa...  \n",
       "..                                                 ...  \n",
       "965  Upto 4 StarsMealsSightseeing+2 moreStay Includ...  \n",
       "966  Upto 3 StarsMealsSightseeing+2 moreStay Includ...  \n",
       "967  Upto 3 StarsMealsSightseeing+4 moreJeep Safari...  \n",
       "968  Upto 3 StarsMealsSightseeing+2 moreAirport Pic...  \n",
       "969       Upto 3 StarsMealsSightseeing+1 moreTransfers  \n",
       "\n",
       "[970 rows x 6 columns]"
      ]
     },
     "execution_count": 244,
     "metadata": {},
     "output_type": "execute_result"
    }
   ],
   "source": [
    "df = df[['Title', 'Location', 'Duration', 'Price', 'Discount', 'Hotel']]\n",
    "df"
   ]
  },
  {
   "cell_type": "code",
   "execution_count": null,
   "id": "de8d3fe3-cad6-4fcf-98fa-d177bfb84abc",
   "metadata": {},
   "outputs": [],
   "source": []
  },
  {
   "cell_type": "code",
   "execution_count": 245,
   "id": "03d4b963-417c-46a6-8bbf-9db34c0f650d",
   "metadata": {},
   "outputs": [
    {
     "data": {
      "text/html": [
       "<div>\n",
       "<style scoped>\n",
       "    .dataframe tbody tr th:only-of-type {\n",
       "        vertical-align: middle;\n",
       "    }\n",
       "\n",
       "    .dataframe tbody tr th {\n",
       "        vertical-align: top;\n",
       "    }\n",
       "\n",
       "    .dataframe thead th {\n",
       "        text-align: right;\n",
       "    }\n",
       "</style>\n",
       "<table border=\"1\" class=\"dataframe\">\n",
       "  <thead>\n",
       "    <tr style=\"text-align: right;\">\n",
       "      <th></th>\n",
       "      <th>Title</th>\n",
       "      <th>Location</th>\n",
       "      <th>Duration</th>\n",
       "      <th>Price</th>\n",
       "      <th>Discount</th>\n",
       "      <th>Hotel</th>\n",
       "    </tr>\n",
       "  </thead>\n",
       "  <tbody>\n",
       "    <tr>\n",
       "      <th>0</th>\n",
       "      <td>Maldives South Palm Resort Package With Flights</td>\n",
       "      <td>Addu City (5D)</td>\n",
       "      <td>5 Days &amp; 4 Nights</td>\n",
       "      <td>₹ 29,000/-₹ 32,222/-</td>\n",
       "      <td>23% Off</td>\n",
       "      <td>Upto 4 StarsMealsSightseeing+3 moreEntry fee c...</td>\n",
       "    </tr>\n",
       "    <tr>\n",
       "      <th>1</th>\n",
       "      <td>Exclusive Bali Honeymoon Tour Packages For A M...</td>\n",
       "      <td>Kuta (4D)Ubud (3D)</td>\n",
       "      <td>7 Days &amp; 6 Nights</td>\n",
       "      <td>₹ 10,500/-₹ 12,000/-</td>\n",
       "      <td>10% Off</td>\n",
       "      <td>Upto 3 StarsMealsSightseeing+1 moreTransfers</td>\n",
       "    </tr>\n",
       "    <tr>\n",
       "      <th>2</th>\n",
       "      <td>Romantic Mussoorie Tour Package From Delhi</td>\n",
       "      <td>Mussoorie (3D)</td>\n",
       "      <td>3 Days &amp; 2 Nights</td>\n",
       "      <td>₹ 93,000/-₹ 141,515/-</td>\n",
       "      <td>13% Off</td>\n",
       "      <td>Upto 5 StarsMealsSightseeing+2 moreStay Includ...</td>\n",
       "    </tr>\n",
       "    <tr>\n",
       "      <th>3</th>\n",
       "      <td>Idyllic Maldives Honeymoon Tour Package</td>\n",
       "      <td>Maldives (5D)</td>\n",
       "      <td>5 Days &amp; 4 Nights</td>\n",
       "      <td>₹ 7,999/-₹ 9,142/-</td>\n",
       "      <td>34% Off</td>\n",
       "      <td>Upto 2 StarsMealsSightseeing+2 moreAirport Pic...</td>\n",
       "    </tr>\n",
       "    <tr>\n",
       "      <th>4</th>\n",
       "      <td>Budget-Friendly Dubai Packages From Atlantis F...</td>\n",
       "      <td>Dubai (6D)</td>\n",
       "      <td>6 Days &amp; 5 Nights</td>\n",
       "      <td>₹ 15,599/-₹ 18,811/-</td>\n",
       "      <td>15% Off</td>\n",
       "      <td>Upto 3 StarsMealsSightseeing+2 moreTransfersWa...</td>\n",
       "    </tr>\n",
       "    <tr>\n",
       "      <th>...</th>\n",
       "      <td>...</td>\n",
       "      <td>...</td>\n",
       "      <td>...</td>\n",
       "      <td>...</td>\n",
       "      <td>...</td>\n",
       "      <td>...</td>\n",
       "    </tr>\n",
       "    <tr>\n",
       "      <th>965</th>\n",
       "      <td>Sizzling Pattaya Sightseeing Tour Package</td>\n",
       "      <td>Pattaya (4D)</td>\n",
       "      <td>4 Days &amp; 3 Nights</td>\n",
       "      <td>₹ 33,999/-₹ 37,362/-</td>\n",
       "      <td>9% Off</td>\n",
       "      <td>Upto 4 StarsMealsSightseeing+2 moreStay Includ...</td>\n",
       "    </tr>\n",
       "    <tr>\n",
       "      <th>966</th>\n",
       "      <td>Idyllic Dharamshala Family Package</td>\n",
       "      <td>Dharamshala (1D)Dalhousie (2D)Amritsar (3D)</td>\n",
       "      <td>6 Days &amp; 5 Nights</td>\n",
       "      <td>₹ 23,400/-₹ 25,714/-</td>\n",
       "      <td>9% Off</td>\n",
       "      <td>Upto 3 StarsMealsSightseeing+2 moreStay Includ...</td>\n",
       "    </tr>\n",
       "    <tr>\n",
       "      <th>967</th>\n",
       "      <td>Adventurous Assam Tour Package</td>\n",
       "      <td>Kaziranga National Park (3D)</td>\n",
       "      <td>3 Days &amp; 2 Nights</td>\n",
       "      <td>₹ 14,000/-₹ 15,730/-</td>\n",
       "      <td>11% Off</td>\n",
       "      <td>Upto 3 StarsMealsSightseeing+4 moreJeep Safari...</td>\n",
       "    </tr>\n",
       "    <tr>\n",
       "      <th>968</th>\n",
       "      <td>New Zealand Queenstown, Rotorua &amp; Franz Josef ...</td>\n",
       "      <td>Auckland (2D)Paihia (2D)Rotorua (1D)Queenstown...</td>\n",
       "      <td>13 Days &amp; 12 Nights</td>\n",
       "      <td>₹ 142,000/-₹ 150,081/-</td>\n",
       "      <td>5% Off</td>\n",
       "      <td>Upto 3 StarsMealsSightseeing+2 moreAirport Pic...</td>\n",
       "    </tr>\n",
       "    <tr>\n",
       "      <th>969</th>\n",
       "      <td>Ecstatic Cambodia Vietnam Family Holiday Package</td>\n",
       "      <td>Hanoi (3D)Ho Chi Minh City (3D)Siem Reap (2D)P...</td>\n",
       "      <td>11 Days &amp; 10 Nights</td>\n",
       "      <td>₹ 55,000/-₹ 61,111/-</td>\n",
       "      <td>10% Off</td>\n",
       "      <td>Upto 3 StarsMealsSightseeing+1 moreTransfers</td>\n",
       "    </tr>\n",
       "  </tbody>\n",
       "</table>\n",
       "<p>970 rows × 6 columns</p>\n",
       "</div>"
      ],
      "text/plain": [
       "                                                 Title  \\\n",
       "0      Maldives South Palm Resort Package With Flights   \n",
       "1    Exclusive Bali Honeymoon Tour Packages For A M...   \n",
       "2           Romantic Mussoorie Tour Package From Delhi   \n",
       "3              Idyllic Maldives Honeymoon Tour Package   \n",
       "4    Budget-Friendly Dubai Packages From Atlantis F...   \n",
       "..                                                 ...   \n",
       "965          Sizzling Pattaya Sightseeing Tour Package   \n",
       "966                 Idyllic Dharamshala Family Package   \n",
       "967                     Adventurous Assam Tour Package   \n",
       "968  New Zealand Queenstown, Rotorua & Franz Josef ...   \n",
       "969   Ecstatic Cambodia Vietnam Family Holiday Package   \n",
       "\n",
       "                                              Location             Duration  \\\n",
       "0                                       Addu City (5D)    5 Days & 4 Nights   \n",
       "1                                   Kuta (4D)Ubud (3D)    7 Days & 6 Nights   \n",
       "2                                       Mussoorie (3D)    3 Days & 2 Nights   \n",
       "3                                        Maldives (5D)    5 Days & 4 Nights   \n",
       "4                                           Dubai (6D)    6 Days & 5 Nights   \n",
       "..                                                 ...                  ...   \n",
       "965                                       Pattaya (4D)    4 Days & 3 Nights   \n",
       "966        Dharamshala (1D)Dalhousie (2D)Amritsar (3D)    6 Days & 5 Nights   \n",
       "967                       Kaziranga National Park (3D)    3 Days & 2 Nights   \n",
       "968  Auckland (2D)Paihia (2D)Rotorua (1D)Queenstown...  13 Days & 12 Nights   \n",
       "969  Hanoi (3D)Ho Chi Minh City (3D)Siem Reap (2D)P...  11 Days & 10 Nights   \n",
       "\n",
       "                      Price Discount  \\\n",
       "0      ₹ 29,000/-₹ 32,222/-  23% Off   \n",
       "1      ₹ 10,500/-₹ 12,000/-  10% Off   \n",
       "2     ₹ 93,000/-₹ 141,515/-  13% Off   \n",
       "3        ₹ 7,999/-₹ 9,142/-  34% Off   \n",
       "4      ₹ 15,599/-₹ 18,811/-  15% Off   \n",
       "..                      ...      ...   \n",
       "965    ₹ 33,999/-₹ 37,362/-   9% Off   \n",
       "966    ₹ 23,400/-₹ 25,714/-   9% Off   \n",
       "967    ₹ 14,000/-₹ 15,730/-  11% Off   \n",
       "968  ₹ 142,000/-₹ 150,081/-   5% Off   \n",
       "969    ₹ 55,000/-₹ 61,111/-  10% Off   \n",
       "\n",
       "                                                 Hotel  \n",
       "0    Upto 4 StarsMealsSightseeing+3 moreEntry fee c...  \n",
       "1         Upto 3 StarsMealsSightseeing+1 moreTransfers  \n",
       "2    Upto 5 StarsMealsSightseeing+2 moreStay Includ...  \n",
       "3    Upto 2 StarsMealsSightseeing+2 moreAirport Pic...  \n",
       "4    Upto 3 StarsMealsSightseeing+2 moreTransfersWa...  \n",
       "..                                                 ...  \n",
       "965  Upto 4 StarsMealsSightseeing+2 moreStay Includ...  \n",
       "966  Upto 3 StarsMealsSightseeing+2 moreStay Includ...  \n",
       "967  Upto 3 StarsMealsSightseeing+4 moreJeep Safari...  \n",
       "968  Upto 3 StarsMealsSightseeing+2 moreAirport Pic...  \n",
       "969       Upto 3 StarsMealsSightseeing+1 moreTransfers  \n",
       "\n",
       "[970 rows x 6 columns]"
      ]
     },
     "execution_count": 245,
     "metadata": {},
     "output_type": "execute_result"
    }
   ],
   "source": [
    "df"
   ]
  },
  {
   "cell_type": "code",
   "execution_count": null,
   "id": "1ab6269b-da3c-47e7-b6e4-ba6405c6ae7b",
   "metadata": {},
   "outputs": [],
   "source": []
  },
  {
   "cell_type": "code",
   "execution_count": 246,
   "id": "e4e3f54d-67cd-48d9-9280-3e2be99be1bd",
   "metadata": {},
   "outputs": [
    {
     "data": {
      "text/plain": [
       "(970, 6)"
      ]
     },
     "execution_count": 246,
     "metadata": {},
     "output_type": "execute_result"
    }
   ],
   "source": [
    "df.shape"
   ]
  },
  {
   "cell_type": "code",
   "execution_count": null,
   "id": "54527f03-59cc-43fe-9650-96dd27f62f6f",
   "metadata": {},
   "outputs": [],
   "source": []
  },
  {
   "cell_type": "code",
   "execution_count": 247,
   "id": "c9bf63d1-9f81-4fe6-8982-34958ee0b8ab",
   "metadata": {},
   "outputs": [
    {
     "name": "stdout",
     "output_type": "stream",
     "text": [
      "<class 'pandas.core.frame.DataFrame'>\n",
      "RangeIndex: 970 entries, 0 to 969\n",
      "Data columns (total 6 columns):\n",
      " #   Column    Non-Null Count  Dtype \n",
      "---  ------    --------------  ----- \n",
      " 0   Title     970 non-null    object\n",
      " 1   Location  970 non-null    object\n",
      " 2   Duration  970 non-null    object\n",
      " 3   Price     970 non-null    object\n",
      " 4   Discount  970 non-null    object\n",
      " 5   Hotel     970 non-null    object\n",
      "dtypes: object(6)\n",
      "memory usage: 45.6+ KB\n"
     ]
    }
   ],
   "source": [
    "df.info()"
   ]
  },
  {
   "cell_type": "code",
   "execution_count": null,
   "id": "058a2aa9-541c-4ba3-9992-4c151c39cbce",
   "metadata": {},
   "outputs": [],
   "source": []
  },
  {
   "cell_type": "code",
   "execution_count": null,
   "id": "8dd1b0b4-24b6-4d31-af1b-e8b127973b9d",
   "metadata": {},
   "outputs": [],
   "source": []
  },
  {
   "cell_type": "markdown",
   "id": "00208e2c-f595-4de4-8c89-eee94d9a665f",
   "metadata": {},
   "source": [
    "## Extracting the Columns"
   ]
  },
  {
   "cell_type": "code",
   "execution_count": 249,
   "id": "59adbc6d-cc63-4350-85cb-7add32d0cdb8",
   "metadata": {},
   "outputs": [],
   "source": [
    "## a) Clean Duration -> split into Days and Nights\n",
    "df['Days'] = df['Duration'].str.extract(r'(\\d+)\\s*Days').astype(int)\n",
    "df['Nights'] = df['Duration'].str.extract(r'(\\d+)\\s*Nights').astype(int)\n",
    "\n",
    "\n",
    "# b) Clean Price -> split into Min & Max\n",
    "df['Price'] = df['Price'].str.replace(r'[₹,/-]', '', regex=True)   # remove ₹ , / -\n",
    "df[['Price_Min','Price_Max']] = df['Price'].str.split(expand=True).iloc[:,:2]\n",
    "df['Price_Min'] = pd.to_numeric(df['Price_Min'], errors='coerce')\n",
    "df['Price_Max'] = pd.to_numeric(df['Price_Max'], errors='coerce')\n",
    "\n",
    "\n",
    "## c) Clean Discount -> remove 'Off'\n",
    "df['Discount'] = df['Discount'].str.replace('% Off','').astype(int)\n",
    "\n",
    "\n",
    "## d) Create Avg Price\n",
    "df['Avg_Price'] = (df['Price_Min'] + df['Price_Max']) / 2\n",
    "\n"
   ]
  },
  {
   "cell_type": "code",
   "execution_count": 250,
   "id": "02a854eb-f453-4933-b0da-424cf85464bf",
   "metadata": {},
   "outputs": [],
   "source": [
    "# d) Extract Hotel Stars\n",
    "df['Hotel_Stars'] = df['Hotel'].str.extract(r'(\\d+)\\s*Stars')\n",
    "\n",
    "\n",
    "\n",
    "# e) Extract Sightseeing Count (from '+N more')\n",
    "df['Included'] = df['Hotel'].str.extract(r'(Sightseeing\\+\\d+\\s*more)')"
   ]
  },
  {
   "cell_type": "code",
   "execution_count": 251,
   "id": "ee8d1bd8-d010-43ad-ac63-2c867162f189",
   "metadata": {},
   "outputs": [],
   "source": [
    "df.drop(['Price', 'Duration', 'Hotel'], axis= 1, inplace = True)"
   ]
  },
  {
   "cell_type": "code",
   "execution_count": 252,
   "id": "ae721e03-71b2-416e-acd5-45cbef7eb8d0",
   "metadata": {},
   "outputs": [],
   "source": [
    "df = df[['Title', 'Location', 'Days', 'Nights', 'Price_Min', 'Price_Max', 'Avg_Price', 'Discount', 'Hotel_Stars', 'Included']]"
   ]
  },
  {
   "cell_type": "code",
   "execution_count": null,
   "id": "ebd2bf4d-459f-45b3-b39b-c748c37f13ab",
   "metadata": {},
   "outputs": [],
   "source": []
  },
  {
   "cell_type": "markdown",
   "id": "037cbd78-b70a-4fd3-98d9-64e0331af9bd",
   "metadata": {},
   "source": [
    "# EDA "
   ]
  },
  {
   "cell_type": "code",
   "execution_count": 254,
   "id": "c56a1137-6d27-4c9d-b605-0ef81078055a",
   "metadata": {},
   "outputs": [
    {
     "data": {
      "text/html": [
       "<div>\n",
       "<style scoped>\n",
       "    .dataframe tbody tr th:only-of-type {\n",
       "        vertical-align: middle;\n",
       "    }\n",
       "\n",
       "    .dataframe tbody tr th {\n",
       "        vertical-align: top;\n",
       "    }\n",
       "\n",
       "    .dataframe thead th {\n",
       "        text-align: right;\n",
       "    }\n",
       "</style>\n",
       "<table border=\"1\" class=\"dataframe\">\n",
       "  <thead>\n",
       "    <tr style=\"text-align: right;\">\n",
       "      <th></th>\n",
       "      <th>Title</th>\n",
       "      <th>Location</th>\n",
       "      <th>Days</th>\n",
       "      <th>Nights</th>\n",
       "      <th>Price_Min</th>\n",
       "      <th>Price_Max</th>\n",
       "      <th>Avg_Price</th>\n",
       "      <th>Discount</th>\n",
       "      <th>Hotel_Stars</th>\n",
       "      <th>Included</th>\n",
       "    </tr>\n",
       "  </thead>\n",
       "  <tbody>\n",
       "    <tr>\n",
       "      <th>0</th>\n",
       "      <td>Maldives South Palm Resort Package With Flights</td>\n",
       "      <td>Addu City (5D)</td>\n",
       "      <td>5</td>\n",
       "      <td>4</td>\n",
       "      <td>29000</td>\n",
       "      <td>32222</td>\n",
       "      <td>30611.0</td>\n",
       "      <td>23</td>\n",
       "      <td>4</td>\n",
       "      <td>Sightseeing+3 more</td>\n",
       "    </tr>\n",
       "    <tr>\n",
       "      <th>1</th>\n",
       "      <td>Exclusive Bali Honeymoon Tour Packages For A M...</td>\n",
       "      <td>Kuta (4D)Ubud (3D)</td>\n",
       "      <td>7</td>\n",
       "      <td>6</td>\n",
       "      <td>10500</td>\n",
       "      <td>12000</td>\n",
       "      <td>11250.0</td>\n",
       "      <td>10</td>\n",
       "      <td>3</td>\n",
       "      <td>Sightseeing+1 more</td>\n",
       "    </tr>\n",
       "    <tr>\n",
       "      <th>2</th>\n",
       "      <td>Romantic Mussoorie Tour Package From Delhi</td>\n",
       "      <td>Mussoorie (3D)</td>\n",
       "      <td>3</td>\n",
       "      <td>2</td>\n",
       "      <td>93000</td>\n",
       "      <td>141515</td>\n",
       "      <td>117257.5</td>\n",
       "      <td>13</td>\n",
       "      <td>5</td>\n",
       "      <td>Sightseeing+2 more</td>\n",
       "    </tr>\n",
       "    <tr>\n",
       "      <th>3</th>\n",
       "      <td>Idyllic Maldives Honeymoon Tour Package</td>\n",
       "      <td>Maldives (5D)</td>\n",
       "      <td>5</td>\n",
       "      <td>4</td>\n",
       "      <td>7999</td>\n",
       "      <td>9142</td>\n",
       "      <td>8570.5</td>\n",
       "      <td>34</td>\n",
       "      <td>2</td>\n",
       "      <td>Sightseeing+2 more</td>\n",
       "    </tr>\n",
       "    <tr>\n",
       "      <th>4</th>\n",
       "      <td>Budget-Friendly Dubai Packages From Atlantis F...</td>\n",
       "      <td>Dubai (6D)</td>\n",
       "      <td>6</td>\n",
       "      <td>5</td>\n",
       "      <td>15599</td>\n",
       "      <td>18811</td>\n",
       "      <td>17205.0</td>\n",
       "      <td>15</td>\n",
       "      <td>3</td>\n",
       "      <td>Sightseeing+2 more</td>\n",
       "    </tr>\n",
       "    <tr>\n",
       "      <th>...</th>\n",
       "      <td>...</td>\n",
       "      <td>...</td>\n",
       "      <td>...</td>\n",
       "      <td>...</td>\n",
       "      <td>...</td>\n",
       "      <td>...</td>\n",
       "      <td>...</td>\n",
       "      <td>...</td>\n",
       "      <td>...</td>\n",
       "      <td>...</td>\n",
       "    </tr>\n",
       "    <tr>\n",
       "      <th>965</th>\n",
       "      <td>Sizzling Pattaya Sightseeing Tour Package</td>\n",
       "      <td>Pattaya (4D)</td>\n",
       "      <td>4</td>\n",
       "      <td>3</td>\n",
       "      <td>33999</td>\n",
       "      <td>37362</td>\n",
       "      <td>35680.5</td>\n",
       "      <td>9</td>\n",
       "      <td>4</td>\n",
       "      <td>Sightseeing+2 more</td>\n",
       "    </tr>\n",
       "    <tr>\n",
       "      <th>966</th>\n",
       "      <td>Idyllic Dharamshala Family Package</td>\n",
       "      <td>Dharamshala (1D)Dalhousie (2D)Amritsar (3D)</td>\n",
       "      <td>6</td>\n",
       "      <td>5</td>\n",
       "      <td>23400</td>\n",
       "      <td>25714</td>\n",
       "      <td>24557.0</td>\n",
       "      <td>9</td>\n",
       "      <td>3</td>\n",
       "      <td>Sightseeing+2 more</td>\n",
       "    </tr>\n",
       "    <tr>\n",
       "      <th>967</th>\n",
       "      <td>Adventurous Assam Tour Package</td>\n",
       "      <td>Kaziranga National Park (3D)</td>\n",
       "      <td>3</td>\n",
       "      <td>2</td>\n",
       "      <td>14000</td>\n",
       "      <td>15730</td>\n",
       "      <td>14865.0</td>\n",
       "      <td>11</td>\n",
       "      <td>3</td>\n",
       "      <td>Sightseeing+4 more</td>\n",
       "    </tr>\n",
       "    <tr>\n",
       "      <th>968</th>\n",
       "      <td>New Zealand Queenstown, Rotorua &amp; Franz Josef ...</td>\n",
       "      <td>Auckland (2D)Paihia (2D)Rotorua (1D)Queenstown...</td>\n",
       "      <td>13</td>\n",
       "      <td>12</td>\n",
       "      <td>142000</td>\n",
       "      <td>150081</td>\n",
       "      <td>146040.5</td>\n",
       "      <td>5</td>\n",
       "      <td>3</td>\n",
       "      <td>Sightseeing+2 more</td>\n",
       "    </tr>\n",
       "    <tr>\n",
       "      <th>969</th>\n",
       "      <td>Ecstatic Cambodia Vietnam Family Holiday Package</td>\n",
       "      <td>Hanoi (3D)Ho Chi Minh City (3D)Siem Reap (2D)P...</td>\n",
       "      <td>11</td>\n",
       "      <td>10</td>\n",
       "      <td>55000</td>\n",
       "      <td>61111</td>\n",
       "      <td>58055.5</td>\n",
       "      <td>10</td>\n",
       "      <td>3</td>\n",
       "      <td>Sightseeing+1 more</td>\n",
       "    </tr>\n",
       "  </tbody>\n",
       "</table>\n",
       "<p>970 rows × 10 columns</p>\n",
       "</div>"
      ],
      "text/plain": [
       "                                                 Title  \\\n",
       "0      Maldives South Palm Resort Package With Flights   \n",
       "1    Exclusive Bali Honeymoon Tour Packages For A M...   \n",
       "2           Romantic Mussoorie Tour Package From Delhi   \n",
       "3              Idyllic Maldives Honeymoon Tour Package   \n",
       "4    Budget-Friendly Dubai Packages From Atlantis F...   \n",
       "..                                                 ...   \n",
       "965          Sizzling Pattaya Sightseeing Tour Package   \n",
       "966                 Idyllic Dharamshala Family Package   \n",
       "967                     Adventurous Assam Tour Package   \n",
       "968  New Zealand Queenstown, Rotorua & Franz Josef ...   \n",
       "969   Ecstatic Cambodia Vietnam Family Holiday Package   \n",
       "\n",
       "                                              Location  Days  Nights  \\\n",
       "0                                       Addu City (5D)     5       4   \n",
       "1                                   Kuta (4D)Ubud (3D)     7       6   \n",
       "2                                       Mussoorie (3D)     3       2   \n",
       "3                                        Maldives (5D)     5       4   \n",
       "4                                           Dubai (6D)     6       5   \n",
       "..                                                 ...   ...     ...   \n",
       "965                                       Pattaya (4D)     4       3   \n",
       "966        Dharamshala (1D)Dalhousie (2D)Amritsar (3D)     6       5   \n",
       "967                       Kaziranga National Park (3D)     3       2   \n",
       "968  Auckland (2D)Paihia (2D)Rotorua (1D)Queenstown...    13      12   \n",
       "969  Hanoi (3D)Ho Chi Minh City (3D)Siem Reap (2D)P...    11      10   \n",
       "\n",
       "     Price_Min  Price_Max  Avg_Price  Discount Hotel_Stars            Included  \n",
       "0        29000      32222    30611.0        23           4  Sightseeing+3 more  \n",
       "1        10500      12000    11250.0        10           3  Sightseeing+1 more  \n",
       "2        93000     141515   117257.5        13           5  Sightseeing+2 more  \n",
       "3         7999       9142     8570.5        34           2  Sightseeing+2 more  \n",
       "4        15599      18811    17205.0        15           3  Sightseeing+2 more  \n",
       "..         ...        ...        ...       ...         ...                 ...  \n",
       "965      33999      37362    35680.5         9           4  Sightseeing+2 more  \n",
       "966      23400      25714    24557.0         9           3  Sightseeing+2 more  \n",
       "967      14000      15730    14865.0        11           3  Sightseeing+4 more  \n",
       "968     142000     150081   146040.5         5           3  Sightseeing+2 more  \n",
       "969      55000      61111    58055.5        10           3  Sightseeing+1 more  \n",
       "\n",
       "[970 rows x 10 columns]"
      ]
     },
     "execution_count": 254,
     "metadata": {},
     "output_type": "execute_result"
    }
   ],
   "source": [
    "df"
   ]
  },
  {
   "cell_type": "code",
   "execution_count": 255,
   "id": "24a1b0bf-891f-4eed-941a-63ea37ee1352",
   "metadata": {},
   "outputs": [
    {
     "data": {
      "text/plain": [
       "(970, 10)"
      ]
     },
     "execution_count": 255,
     "metadata": {},
     "output_type": "execute_result"
    }
   ],
   "source": [
    "df.shape"
   ]
  },
  {
   "cell_type": "code",
   "execution_count": null,
   "id": "81e0091b-5802-45e9-b65a-10608887ff8e",
   "metadata": {},
   "outputs": [],
   "source": []
  },
  {
   "cell_type": "code",
   "execution_count": 256,
   "id": "e5f26b2c-1499-488c-b7b3-3cfe4728e9bf",
   "metadata": {},
   "outputs": [
    {
     "name": "stdout",
     "output_type": "stream",
     "text": [
      "<class 'pandas.core.frame.DataFrame'>\n",
      "RangeIndex: 970 entries, 0 to 969\n",
      "Data columns (total 10 columns):\n",
      " #   Column       Non-Null Count  Dtype  \n",
      "---  ------       --------------  -----  \n",
      " 0   Title        970 non-null    object \n",
      " 1   Location     970 non-null    object \n",
      " 2   Days         970 non-null    int32  \n",
      " 3   Nights       970 non-null    int32  \n",
      " 4   Price_Min    970 non-null    int64  \n",
      " 5   Price_Max    970 non-null    int64  \n",
      " 6   Avg_Price    970 non-null    float64\n",
      " 7   Discount     970 non-null    int32  \n",
      " 8   Hotel_Stars  968 non-null    object \n",
      " 9   Included     970 non-null    object \n",
      "dtypes: float64(1), int32(3), int64(2), object(4)\n",
      "memory usage: 64.5+ KB\n"
     ]
    }
   ],
   "source": [
    "df.info()"
   ]
  },
  {
   "cell_type": "code",
   "execution_count": null,
   "id": "ac47cdd9-be18-45f2-9211-635a8b7b616e",
   "metadata": {},
   "outputs": [],
   "source": []
  },
  {
   "cell_type": "markdown",
   "id": "43128fb6-8cf4-4701-a94f-12a2b482119f",
   "metadata": {},
   "source": [
    "## Checking the Null_values"
   ]
  },
  {
   "cell_type": "code",
   "execution_count": 258,
   "id": "03929427-899e-4aeb-b690-89b292c526e2",
   "metadata": {},
   "outputs": [
    {
     "data": {
      "text/plain": [
       "Title          0\n",
       "Location       0\n",
       "Days           0\n",
       "Nights         0\n",
       "Price_Min      0\n",
       "Price_Max      0\n",
       "Avg_Price      0\n",
       "Discount       0\n",
       "Hotel_Stars    2\n",
       "Included       0\n",
       "dtype: int64"
      ]
     },
     "execution_count": 258,
     "metadata": {},
     "output_type": "execute_result"
    }
   ],
   "source": [
    "df.isnull().sum()"
   ]
  },
  {
   "cell_type": "code",
   "execution_count": 259,
   "id": "024dd83f-acc9-4538-bbd3-d7997a6ffeeb",
   "metadata": {},
   "outputs": [],
   "source": [
    "df['Hotel_Stars'].fillna(2, inplace = True)"
   ]
  },
  {
   "cell_type": "code",
   "execution_count": 260,
   "id": "7d04e0da-99d0-46ef-9405-9180dba2e295",
   "metadata": {},
   "outputs": [],
   "source": [
    "df['Hotel_Stars'] = pd.to_numeric(df['Hotel_Stars'], errors = 'coerce').astype(int)"
   ]
  },
  {
   "cell_type": "markdown",
   "id": "77421619-fcd2-4ef9-9047-9231a3ca3a46",
   "metadata": {},
   "source": [
    "### Observation \n",
    "\n",
    "- Filled the NULL_values with 2 in Hotel_Stars column..\n",
    "- Converted to Integer datatype.."
   ]
  },
  {
   "cell_type": "code",
   "execution_count": null,
   "id": "d62ad8a5-7dfd-4eed-99c5-11c6981bc515",
   "metadata": {},
   "outputs": [],
   "source": []
  },
  {
   "cell_type": "markdown",
   "id": "80654221-091f-4968-9575-66ad95073a44",
   "metadata": {},
   "source": [
    "## Checking the Dtypes"
   ]
  },
  {
   "cell_type": "code",
   "execution_count": 263,
   "id": "8153843f-8dfc-40f2-9b32-c6ef2f6acea2",
   "metadata": {},
   "outputs": [
    {
     "data": {
      "text/plain": [
       "Title           object\n",
       "Location        object\n",
       "Days             int32\n",
       "Nights           int32\n",
       "Price_Min        int64\n",
       "Price_Max        int64\n",
       "Avg_Price      float64\n",
       "Discount         int32\n",
       "Hotel_Stars      int32\n",
       "Included        object\n",
       "dtype: object"
      ]
     },
     "execution_count": 263,
     "metadata": {},
     "output_type": "execute_result"
    }
   ],
   "source": [
    "df.dtypes"
   ]
  },
  {
   "cell_type": "code",
   "execution_count": null,
   "id": "4cac46c0-83b2-4709-89ea-5aa1a2bd9cf6",
   "metadata": {},
   "outputs": [],
   "source": []
  },
  {
   "cell_type": "markdown",
   "id": "2f381a8f-43e3-4725-9f72-e7a88083bacc",
   "metadata": {},
   "source": [
    "##  Checking the duplicates"
   ]
  },
  {
   "cell_type": "code",
   "execution_count": 265,
   "id": "b8e45efc-861a-477e-94d0-f7edd38f2220",
   "metadata": {},
   "outputs": [
    {
     "data": {
      "text/plain": [
       "0"
      ]
     },
     "execution_count": 265,
     "metadata": {},
     "output_type": "execute_result"
    }
   ],
   "source": [
    "df.duplicated().sum()"
   ]
  },
  {
   "cell_type": "code",
   "execution_count": 266,
   "id": "1327e416-cb98-44fa-99ac-2fee893dac68",
   "metadata": {},
   "outputs": [],
   "source": [
    "df.drop_duplicates(inplace=True)"
   ]
  },
  {
   "cell_type": "code",
   "execution_count": null,
   "id": "f219ff55-10f2-4aae-8969-15ee86ce2323",
   "metadata": {},
   "outputs": [],
   "source": []
  },
  {
   "cell_type": "markdown",
   "id": "28f160ff-f816-42ac-8d19-03f79d13ee5e",
   "metadata": {},
   "source": [
    "###  Optional: Drop rows with critical missing information (e.g. missing Title or Location)"
   ]
  },
  {
   "cell_type": "code",
   "execution_count": 268,
   "id": "d9f778bb-f767-4a61-a6d7-2900a8dd352d",
   "metadata": {},
   "outputs": [],
   "source": [
    "df.dropna(subset=['Title', 'Location'], inplace=True)"
   ]
  },
  {
   "cell_type": "code",
   "execution_count": 269,
   "id": "7357eda3-0ea4-41e2-8e98-d0afb2e39ea0",
   "metadata": {},
   "outputs": [
    {
     "data": {
      "text/html": [
       "<div>\n",
       "<style scoped>\n",
       "    .dataframe tbody tr th:only-of-type {\n",
       "        vertical-align: middle;\n",
       "    }\n",
       "\n",
       "    .dataframe tbody tr th {\n",
       "        vertical-align: top;\n",
       "    }\n",
       "\n",
       "    .dataframe thead th {\n",
       "        text-align: right;\n",
       "    }\n",
       "</style>\n",
       "<table border=\"1\" class=\"dataframe\">\n",
       "  <thead>\n",
       "    <tr style=\"text-align: right;\">\n",
       "      <th></th>\n",
       "      <th>Title</th>\n",
       "      <th>Location</th>\n",
       "      <th>Days</th>\n",
       "      <th>Nights</th>\n",
       "      <th>Price_Min</th>\n",
       "      <th>Price_Max</th>\n",
       "      <th>Avg_Price</th>\n",
       "      <th>Discount</th>\n",
       "      <th>Hotel_Stars</th>\n",
       "      <th>Included</th>\n",
       "    </tr>\n",
       "  </thead>\n",
       "  <tbody>\n",
       "    <tr>\n",
       "      <th>0</th>\n",
       "      <td>Maldives South Palm Resort Package With Flights</td>\n",
       "      <td>Addu City (5D)</td>\n",
       "      <td>5</td>\n",
       "      <td>4</td>\n",
       "      <td>29000</td>\n",
       "      <td>32222</td>\n",
       "      <td>30611.0</td>\n",
       "      <td>23</td>\n",
       "      <td>4</td>\n",
       "      <td>Sightseeing+3 more</td>\n",
       "    </tr>\n",
       "    <tr>\n",
       "      <th>1</th>\n",
       "      <td>Exclusive Bali Honeymoon Tour Packages For A M...</td>\n",
       "      <td>Kuta (4D)Ubud (3D)</td>\n",
       "      <td>7</td>\n",
       "      <td>6</td>\n",
       "      <td>10500</td>\n",
       "      <td>12000</td>\n",
       "      <td>11250.0</td>\n",
       "      <td>10</td>\n",
       "      <td>3</td>\n",
       "      <td>Sightseeing+1 more</td>\n",
       "    </tr>\n",
       "    <tr>\n",
       "      <th>2</th>\n",
       "      <td>Romantic Mussoorie Tour Package From Delhi</td>\n",
       "      <td>Mussoorie (3D)</td>\n",
       "      <td>3</td>\n",
       "      <td>2</td>\n",
       "      <td>93000</td>\n",
       "      <td>141515</td>\n",
       "      <td>117257.5</td>\n",
       "      <td>13</td>\n",
       "      <td>5</td>\n",
       "      <td>Sightseeing+2 more</td>\n",
       "    </tr>\n",
       "    <tr>\n",
       "      <th>3</th>\n",
       "      <td>Idyllic Maldives Honeymoon Tour Package</td>\n",
       "      <td>Maldives (5D)</td>\n",
       "      <td>5</td>\n",
       "      <td>4</td>\n",
       "      <td>7999</td>\n",
       "      <td>9142</td>\n",
       "      <td>8570.5</td>\n",
       "      <td>34</td>\n",
       "      <td>2</td>\n",
       "      <td>Sightseeing+2 more</td>\n",
       "    </tr>\n",
       "    <tr>\n",
       "      <th>4</th>\n",
       "      <td>Budget-Friendly Dubai Packages From Atlantis F...</td>\n",
       "      <td>Dubai (6D)</td>\n",
       "      <td>6</td>\n",
       "      <td>5</td>\n",
       "      <td>15599</td>\n",
       "      <td>18811</td>\n",
       "      <td>17205.0</td>\n",
       "      <td>15</td>\n",
       "      <td>3</td>\n",
       "      <td>Sightseeing+2 more</td>\n",
       "    </tr>\n",
       "    <tr>\n",
       "      <th>...</th>\n",
       "      <td>...</td>\n",
       "      <td>...</td>\n",
       "      <td>...</td>\n",
       "      <td>...</td>\n",
       "      <td>...</td>\n",
       "      <td>...</td>\n",
       "      <td>...</td>\n",
       "      <td>...</td>\n",
       "      <td>...</td>\n",
       "      <td>...</td>\n",
       "    </tr>\n",
       "    <tr>\n",
       "      <th>965</th>\n",
       "      <td>Sizzling Pattaya Sightseeing Tour Package</td>\n",
       "      <td>Pattaya (4D)</td>\n",
       "      <td>4</td>\n",
       "      <td>3</td>\n",
       "      <td>33999</td>\n",
       "      <td>37362</td>\n",
       "      <td>35680.5</td>\n",
       "      <td>9</td>\n",
       "      <td>4</td>\n",
       "      <td>Sightseeing+2 more</td>\n",
       "    </tr>\n",
       "    <tr>\n",
       "      <th>966</th>\n",
       "      <td>Idyllic Dharamshala Family Package</td>\n",
       "      <td>Dharamshala (1D)Dalhousie (2D)Amritsar (3D)</td>\n",
       "      <td>6</td>\n",
       "      <td>5</td>\n",
       "      <td>23400</td>\n",
       "      <td>25714</td>\n",
       "      <td>24557.0</td>\n",
       "      <td>9</td>\n",
       "      <td>3</td>\n",
       "      <td>Sightseeing+2 more</td>\n",
       "    </tr>\n",
       "    <tr>\n",
       "      <th>967</th>\n",
       "      <td>Adventurous Assam Tour Package</td>\n",
       "      <td>Kaziranga National Park (3D)</td>\n",
       "      <td>3</td>\n",
       "      <td>2</td>\n",
       "      <td>14000</td>\n",
       "      <td>15730</td>\n",
       "      <td>14865.0</td>\n",
       "      <td>11</td>\n",
       "      <td>3</td>\n",
       "      <td>Sightseeing+4 more</td>\n",
       "    </tr>\n",
       "    <tr>\n",
       "      <th>968</th>\n",
       "      <td>New Zealand Queenstown, Rotorua &amp; Franz Josef ...</td>\n",
       "      <td>Auckland (2D)Paihia (2D)Rotorua (1D)Queenstown...</td>\n",
       "      <td>13</td>\n",
       "      <td>12</td>\n",
       "      <td>142000</td>\n",
       "      <td>150081</td>\n",
       "      <td>146040.5</td>\n",
       "      <td>5</td>\n",
       "      <td>3</td>\n",
       "      <td>Sightseeing+2 more</td>\n",
       "    </tr>\n",
       "    <tr>\n",
       "      <th>969</th>\n",
       "      <td>Ecstatic Cambodia Vietnam Family Holiday Package</td>\n",
       "      <td>Hanoi (3D)Ho Chi Minh City (3D)Siem Reap (2D)P...</td>\n",
       "      <td>11</td>\n",
       "      <td>10</td>\n",
       "      <td>55000</td>\n",
       "      <td>61111</td>\n",
       "      <td>58055.5</td>\n",
       "      <td>10</td>\n",
       "      <td>3</td>\n",
       "      <td>Sightseeing+1 more</td>\n",
       "    </tr>\n",
       "  </tbody>\n",
       "</table>\n",
       "<p>970 rows × 10 columns</p>\n",
       "</div>"
      ],
      "text/plain": [
       "                                                 Title  \\\n",
       "0      Maldives South Palm Resort Package With Flights   \n",
       "1    Exclusive Bali Honeymoon Tour Packages For A M...   \n",
       "2           Romantic Mussoorie Tour Package From Delhi   \n",
       "3              Idyllic Maldives Honeymoon Tour Package   \n",
       "4    Budget-Friendly Dubai Packages From Atlantis F...   \n",
       "..                                                 ...   \n",
       "965          Sizzling Pattaya Sightseeing Tour Package   \n",
       "966                 Idyllic Dharamshala Family Package   \n",
       "967                     Adventurous Assam Tour Package   \n",
       "968  New Zealand Queenstown, Rotorua & Franz Josef ...   \n",
       "969   Ecstatic Cambodia Vietnam Family Holiday Package   \n",
       "\n",
       "                                              Location  Days  Nights  \\\n",
       "0                                       Addu City (5D)     5       4   \n",
       "1                                   Kuta (4D)Ubud (3D)     7       6   \n",
       "2                                       Mussoorie (3D)     3       2   \n",
       "3                                        Maldives (5D)     5       4   \n",
       "4                                           Dubai (6D)     6       5   \n",
       "..                                                 ...   ...     ...   \n",
       "965                                       Pattaya (4D)     4       3   \n",
       "966        Dharamshala (1D)Dalhousie (2D)Amritsar (3D)     6       5   \n",
       "967                       Kaziranga National Park (3D)     3       2   \n",
       "968  Auckland (2D)Paihia (2D)Rotorua (1D)Queenstown...    13      12   \n",
       "969  Hanoi (3D)Ho Chi Minh City (3D)Siem Reap (2D)P...    11      10   \n",
       "\n",
       "     Price_Min  Price_Max  Avg_Price  Discount  Hotel_Stars  \\\n",
       "0        29000      32222    30611.0        23            4   \n",
       "1        10500      12000    11250.0        10            3   \n",
       "2        93000     141515   117257.5        13            5   \n",
       "3         7999       9142     8570.5        34            2   \n",
       "4        15599      18811    17205.0        15            3   \n",
       "..         ...        ...        ...       ...          ...   \n",
       "965      33999      37362    35680.5         9            4   \n",
       "966      23400      25714    24557.0         9            3   \n",
       "967      14000      15730    14865.0        11            3   \n",
       "968     142000     150081   146040.5         5            3   \n",
       "969      55000      61111    58055.5        10            3   \n",
       "\n",
       "               Included  \n",
       "0    Sightseeing+3 more  \n",
       "1    Sightseeing+1 more  \n",
       "2    Sightseeing+2 more  \n",
       "3    Sightseeing+2 more  \n",
       "4    Sightseeing+2 more  \n",
       "..                  ...  \n",
       "965  Sightseeing+2 more  \n",
       "966  Sightseeing+2 more  \n",
       "967  Sightseeing+4 more  \n",
       "968  Sightseeing+2 more  \n",
       "969  Sightseeing+1 more  \n",
       "\n",
       "[970 rows x 10 columns]"
      ]
     },
     "execution_count": 269,
     "metadata": {},
     "output_type": "execute_result"
    }
   ],
   "source": [
    "df"
   ]
  },
  {
   "cell_type": "code",
   "execution_count": null,
   "id": "b659a646-fad2-4bbb-8fa0-5c5adf4281dd",
   "metadata": {},
   "outputs": [],
   "source": []
  },
  {
   "cell_type": "code",
   "execution_count": null,
   "id": "6a1c0e45-5376-4b58-9cb3-6abd28f35680",
   "metadata": {},
   "outputs": [],
   "source": []
  },
  {
   "cell_type": "markdown",
   "id": "8aa14e62-5e87-4c05-8f0a-11aa3b070758",
   "metadata": {},
   "source": [
    "## Outlier Detection"
   ]
  },
  {
   "cell_type": "code",
   "execution_count": 271,
   "id": "98170161-724b-4496-8307-a1ec67fa1885",
   "metadata": {},
   "outputs": [],
   "source": [
    "numerical_cols = df.select_dtypes(include=['int64', 'int32','float64']).columns"
   ]
  },
  {
   "cell_type": "code",
   "execution_count": 272,
   "id": "733b7c26-0c1e-4832-94a9-dbff9241f1ed",
   "metadata": {},
   "outputs": [
    {
     "name": "stdout",
     "output_type": "stream",
     "text": [
      "\n",
      "Outliers in column 'Days':\n",
      "[12, 12, 16, 12, 14, 15, 12, 13, 16, 12, 14, 15, 15, 20, 12, 12, 12, 18, 14, 20, 12, 13, 13]\n",
      "\n",
      "Outliers in column 'Nights':\n",
      "[11, 11, 15, 11, 13, 14, 11, 12, 15, 11, 13, 14, 14, 19, 11, 11, 11, 17, 13, 19, 11, 12, 12]\n",
      "\n",
      "Outliers in column 'Price_Min':\n",
      "[124000, 142000, 106000, 141750, 152500, 130550, 109899, 127500, 152000, 115000, 178500, 125000, 117299, 190900, 128000, 105289, 125000, 115000, 189479, 185600, 130000, 107000, 128500, 105281, 136450, 168000, 161288, 209750, 164927, 195599, 106310, 110000, 104999, 117386, 107098, 178750, 210000, 139000, 127000, 107098, 259585, 160000, 136500, 105289, 115500, 142999, 124500, 156800, 115500, 136499, 143240, 115500, 148891, 163750, 131249, 136499, 250000, 217000, 150000, 169000, 128399, 158000, 138600, 108000, 122386, 120000, 126000, 162750, 132800, 142000]\n",
      "\n",
      "Outliers in column 'Price_Max':\n",
      "[141515, 133418, 150606, 120454, 155769, 163978, 141902, 120768, 140110, 168889, 180000, 194022, 123596, 170000, 131797, 209780, 137634, 180001, 126374, 215317, 207181, 139785, 117582, 142778, 118293, 149945, 184615, 181222, 220789, 183252, 214944, 119599, 208919, 120879, 116666, 133393, 118998, 191518, 233333, 189000, 130048, 118998, 288428, 175824, 150000, 126923, 156618, 151001, 135326, 172480, 125543, 148369, 159155, 126923, 161838, 177989, 144230, 148369, 274725, 226538, 163043, 185714, 141098, 173626, 150652, 118681, 134490, 131868, 140000, 178846, 149213, 150081]\n",
      "\n",
      "Outliers in column 'Avg_Price':\n",
      "[117257.5, 128709.0, 146303.0, 113227.0, 148759.5, 158239.0, 136226.0, 115333.5, 133805.0, 160444.5, 147500.0, 186261.0, 147500.0, 124548.0, 200340.0, 132817.0, 108213.5, 152500.5, 120687.0, 202398.0, 196390.5, 134892.5, 112291.0, 135639.0, 111787.0, 143197.5, 176307.5, 171255.0, 215269.5, 174089.5, 205271.5, 112954.5, 147984.5, 115439.5, 110832.5, 125389.5, 113048.0, 185134.0, 221666.5, 164000.0, 128524.0, 113048.0, 274006.5, 167912.0, 143250.0, 108213.5, 121211.5, 149808.5, 120000.5, 129913.0, 164640.0, 120521.5, 142434.0, 151197.5, 121211.5, 155364.5, 170869.5, 137739.5, 142434.0, 262362.5, 221769.0, 156521.5, 177357.0, 134748.5, 165813.0, 144626.0, 113340.5, 128438.0, 125934.0, 133000.0, 170798.0, 141006.5, 146040.5]\n",
      "\n",
      "Outliers in column 'Discount':\n",
      "[23, 13, 34, 15, 13, 17, 17, 56, 6, 16, 22, 19, 33, 6, 13, 12, 18, 7, 19, 5, 17, 6, 15, 7, 14, 7, 16, 6, 7, 12, 7, 21, 6, 12, 12, 7, 12, 23, 6, 33, 12, 13, 13, 7, 24, 19, 12, 12, 7, 15, 7, 13, 22, 12, 13, 7, 12, 7, 6, 5, 17, 24, 5, 7, 14, 7, 12, 7, 12, 6, 7, 12, 12, 12, 12, 35, 24, 36, 22, 12, 16, 12, 12, 30, 29, 26, 7, 12, 21, 14, 20, 1, 33, 39, 6, 7, 13, 15, 7, 13, 12, 6, 23, 5, 31, 15, 19, 7, 12, 6, 7, 7, 5, 12, 12, 19, 7, 17, 13, 12, 7, 14, 18, 7, 3, 6, 20, 13, 7, 12, 13, 13, 17, 7, 5, 17, 7, 12, 18, 13, 13, 5, 17, 7, 12, 17, 20, 14, 7, 12, 22, 20, 7, 17, 31, 12, 12, 12, 7, 12, 15, 5, 20, 12, 6, 36, 12, 12, 13, 12, 25, 12, 58, 7, 12, 6, 6, 7, 12, 7, 14, 18, 12, 12, 12, 19, 7, 7, 6, 13, 6, 12, 26, 12, 5, 6, 2, 7, 7, 21, 12, 7, 12, 7, 16, 7, 12, 7, 6, 7, 6, 6, 19, 13, 15, 6, 22, 14, 7, 7, 7, 7, 12, 1, 7, 7, 12, 15, 5, 12, 41, 5, 16, 14, 7, 12, 14, 13, 27, 6, 6, 13, 5, 7, 12, 7, 12, 16, 16, 13, 16, 6, 4, 12, 12, 7, 7, 15, 5, 6, 12, 1, 12, 6, 7, 13, 7, 12, 12, 12, 5]\n",
      "\n",
      "Outliers in column 'Hotel_Stars':\n",
      "[1]\n"
     ]
    }
   ],
   "source": [
    "outliers = {}\n",
    "\n",
    "for col in numerical_cols:\n",
    "    if df[col].isnull().all():\n",
    "        continue\n",
    "\n",
    "    Q1 = df[col].quantile(0.25)\n",
    "    Q3 = df[col].quantile(0.75)\n",
    "    IQR = Q3 - Q1\n",
    "    lower = Q1 - 1.5 * IQR\n",
    "    upper = Q3 + 1.5 * IQR\n",
    "    \n",
    "    outlier_values = df[(df[col] < lower) | (df[col] > upper)][col]\n",
    "    \n",
    "    if not outlier_values.empty:\n",
    "        outliers[col] = outlier_values.tolist()\n",
    "\n",
    "if outliers:\n",
    "    for col, vals in outliers.items():\n",
    "        print(f\"\\nOutliers in column '{col}':\\n{vals}\")\n",
    "else:\n",
    "    print(\"No outliers found in the numerical columns.\")"
   ]
  },
  {
   "cell_type": "markdown",
   "id": "ebcab9a9-3590-47e7-a61c-04d377e4c0da",
   "metadata": {},
   "source": [
    "### Observation \n",
    "\n",
    "- There are so many Outliers found in all numerical columns."
   ]
  },
  {
   "cell_type": "markdown",
   "id": "f7821420-ab43-4eff-aef6-1870c77bd7b5",
   "metadata": {},
   "source": [
    "## Capping the Outliers"
   ]
  },
  {
   "cell_type": "code",
   "execution_count": 275,
   "id": "7edfbb95-3509-41a7-9bb6-d9ecc551d5d0",
   "metadata": {},
   "outputs": [],
   "source": [
    "num_cols = ['Days','Nights','Price_Min','Price_Max','Avg_Price','Discount']"
   ]
  },
  {
   "cell_type": "code",
   "execution_count": 276,
   "id": "133de5e8-a3e8-4a4f-8568-6ccc495b8098",
   "metadata": {},
   "outputs": [],
   "source": [
    "def cap_outliers(df, column):\n",
    "    Q1 = df[column].quantile(0.25)\n",
    "    Q3 = df[column].quantile(0.75)\n",
    "    IQR = Q3 - Q1\n",
    "    lower_bound = Q1 - 1.5 * IQR\n",
    "    upper_bound = Q3 + 1.5 * IQR\n",
    "    df[column] = df[column].clip(lower=lower_bound, upper=upper_bound)\n",
    "    return df\n",
    "\n",
    "# Cap outliers for all numeric columns\n",
    "for col in num_cols:\n",
    "    df = cap_outliers(df, col)"
   ]
  },
  {
   "cell_type": "markdown",
   "id": "a5e17b1f-7449-47f6-8e8f-b76f7727317f",
   "metadata": {},
   "source": [
    "### Observation\n",
    "\n",
    "- Instead of removing extreme values, we limit (cap) them at a certain threshold so they don’t distort the analysis."
   ]
  },
  {
   "cell_type": "code",
   "execution_count": null,
   "id": "a0525d82-b8b4-4c7c-a0ff-880dfca4dc17",
   "metadata": {},
   "outputs": [],
   "source": []
  },
  {
   "cell_type": "markdown",
   "id": "3c793d1a-c2d7-4a7b-a1e1-b0544ba25cca",
   "metadata": {},
   "source": [
    "### Checking After the Capping Outliers"
   ]
  },
  {
   "cell_type": "code",
   "execution_count": 279,
   "id": "6fabb2bf-7ffc-4704-ad4b-74393a6f7f70",
   "metadata": {},
   "outputs": [
    {
     "name": "stdout",
     "output_type": "stream",
     "text": [
      "\n",
      "Outliers in column 'Hotel_Stars':\n",
      "[1]\n"
     ]
    }
   ],
   "source": [
    "outliers = {}\n",
    "\n",
    "for col in numerical_cols:\n",
    "    if df[col].isnull().all():\n",
    "        continue\n",
    "\n",
    "    Q1 = df[col].quantile(0.25)\n",
    "    Q3 = df[col].quantile(0.75)\n",
    "    IQR = Q3 - Q1\n",
    "    lower = Q1 - 1.5 * IQR\n",
    "    upper = Q3 + 1.5 * IQR\n",
    "    \n",
    "    outlier_values = df[(df[col] < lower) | (df[col] > upper)][col]\n",
    "    \n",
    "    if not outlier_values.empty:\n",
    "        outliers[col] = outlier_values.tolist()\n",
    "\n",
    "if outliers:\n",
    "    for col, vals in outliers.items():\n",
    "        print(f\"\\nOutliers in column '{col}':\\n{vals}\")\n",
    "else:\n",
    "    print(\"No outliers found in the numerical columns.\")"
   ]
  },
  {
   "cell_type": "code",
   "execution_count": null,
   "id": "c1aebd17-2ac5-40c6-8e69-03865bac8590",
   "metadata": {},
   "outputs": [],
   "source": []
  },
  {
   "cell_type": "code",
   "execution_count": 280,
   "id": "20e8fa54-eee2-4cdc-b7ed-3fdaf3e0f1b3",
   "metadata": {},
   "outputs": [],
   "source": [
    "def remove_outliers(df, column):\n",
    "    Q1 = df[column].quantile(0.25)   # 25th percentile\n",
    "    Q3 = df[column].quantile(0.75)   # 75th percentile\n",
    "    IQR = Q3 - Q1\n",
    "    lower_bound = Q1 - 1.5 * IQR\n",
    "    upper_bound = Q3 + 1.5 * IQR\n",
    "    \n",
    "    # Keep only rows within bounds\n",
    "    df = df[(df[column] >= lower_bound) & (df[column] <= upper_bound)]\n",
    "    return df"
   ]
  },
  {
   "cell_type": "code",
   "execution_count": 281,
   "id": "faa2041b-3d31-4ead-8368-1ff96435a845",
   "metadata": {},
   "outputs": [],
   "source": [
    "df = remove_outliers(df, 'Discount')"
   ]
  },
  {
   "cell_type": "code",
   "execution_count": null,
   "id": "1c48de9c-04d9-4c6a-8d57-ccf53062f158",
   "metadata": {},
   "outputs": [],
   "source": []
  },
  {
   "cell_type": "code",
   "execution_count": 282,
   "id": "a86acfd3-4c54-4cd9-8d9b-a67e0b40eae4",
   "metadata": {},
   "outputs": [
    {
     "data": {
      "text/html": [
       "<div>\n",
       "<style scoped>\n",
       "    .dataframe tbody tr th:only-of-type {\n",
       "        vertical-align: middle;\n",
       "    }\n",
       "\n",
       "    .dataframe tbody tr th {\n",
       "        vertical-align: top;\n",
       "    }\n",
       "\n",
       "    .dataframe thead th {\n",
       "        text-align: right;\n",
       "    }\n",
       "</style>\n",
       "<table border=\"1\" class=\"dataframe\">\n",
       "  <thead>\n",
       "    <tr style=\"text-align: right;\">\n",
       "      <th></th>\n",
       "      <th>Title</th>\n",
       "      <th>Location</th>\n",
       "      <th>Days</th>\n",
       "      <th>Nights</th>\n",
       "      <th>Price_Min</th>\n",
       "      <th>Price_Max</th>\n",
       "      <th>Avg_Price</th>\n",
       "      <th>Discount</th>\n",
       "      <th>Hotel_Stars</th>\n",
       "      <th>Included</th>\n",
       "    </tr>\n",
       "  </thead>\n",
       "  <tbody>\n",
       "    <tr>\n",
       "      <th>0</th>\n",
       "      <td>Maldives South Palm Resort Package With Flights</td>\n",
       "      <td>Addu City (5D)</td>\n",
       "      <td>5.0</td>\n",
       "      <td>4.0</td>\n",
       "      <td>29000</td>\n",
       "      <td>32222.000</td>\n",
       "      <td>30611.0000</td>\n",
       "      <td>11.5</td>\n",
       "      <td>4</td>\n",
       "      <td>Sightseeing+3 more</td>\n",
       "    </tr>\n",
       "    <tr>\n",
       "      <th>1</th>\n",
       "      <td>Exclusive Bali Honeymoon Tour Packages For A M...</td>\n",
       "      <td>Kuta (4D)Ubud (3D)</td>\n",
       "      <td>7.0</td>\n",
       "      <td>6.0</td>\n",
       "      <td>10500</td>\n",
       "      <td>12000.000</td>\n",
       "      <td>11250.0000</td>\n",
       "      <td>10.0</td>\n",
       "      <td>3</td>\n",
       "      <td>Sightseeing+1 more</td>\n",
       "    </tr>\n",
       "    <tr>\n",
       "      <th>2</th>\n",
       "      <td>Romantic Mussoorie Tour Package From Delhi</td>\n",
       "      <td>Mussoorie (3D)</td>\n",
       "      <td>3.0</td>\n",
       "      <td>2.0</td>\n",
       "      <td>93000</td>\n",
       "      <td>111991.875</td>\n",
       "      <td>107735.6875</td>\n",
       "      <td>11.5</td>\n",
       "      <td>5</td>\n",
       "      <td>Sightseeing+2 more</td>\n",
       "    </tr>\n",
       "    <tr>\n",
       "      <th>3</th>\n",
       "      <td>Idyllic Maldives Honeymoon Tour Package</td>\n",
       "      <td>Maldives (5D)</td>\n",
       "      <td>5.0</td>\n",
       "      <td>4.0</td>\n",
       "      <td>7999</td>\n",
       "      <td>9142.000</td>\n",
       "      <td>8570.5000</td>\n",
       "      <td>11.5</td>\n",
       "      <td>2</td>\n",
       "      <td>Sightseeing+2 more</td>\n",
       "    </tr>\n",
       "    <tr>\n",
       "      <th>4</th>\n",
       "      <td>Budget-Friendly Dubai Packages From Atlantis F...</td>\n",
       "      <td>Dubai (6D)</td>\n",
       "      <td>6.0</td>\n",
       "      <td>5.0</td>\n",
       "      <td>15599</td>\n",
       "      <td>18811.000</td>\n",
       "      <td>17205.0000</td>\n",
       "      <td>11.5</td>\n",
       "      <td>3</td>\n",
       "      <td>Sightseeing+2 more</td>\n",
       "    </tr>\n",
       "    <tr>\n",
       "      <th>...</th>\n",
       "      <td>...</td>\n",
       "      <td>...</td>\n",
       "      <td>...</td>\n",
       "      <td>...</td>\n",
       "      <td>...</td>\n",
       "      <td>...</td>\n",
       "      <td>...</td>\n",
       "      <td>...</td>\n",
       "      <td>...</td>\n",
       "      <td>...</td>\n",
       "    </tr>\n",
       "    <tr>\n",
       "      <th>965</th>\n",
       "      <td>Sizzling Pattaya Sightseeing Tour Package</td>\n",
       "      <td>Pattaya (4D)</td>\n",
       "      <td>4.0</td>\n",
       "      <td>3.0</td>\n",
       "      <td>33999</td>\n",
       "      <td>37362.000</td>\n",
       "      <td>35680.5000</td>\n",
       "      <td>9.0</td>\n",
       "      <td>4</td>\n",
       "      <td>Sightseeing+2 more</td>\n",
       "    </tr>\n",
       "    <tr>\n",
       "      <th>966</th>\n",
       "      <td>Idyllic Dharamshala Family Package</td>\n",
       "      <td>Dharamshala (1D)Dalhousie (2D)Amritsar (3D)</td>\n",
       "      <td>6.0</td>\n",
       "      <td>5.0</td>\n",
       "      <td>23400</td>\n",
       "      <td>25714.000</td>\n",
       "      <td>24557.0000</td>\n",
       "      <td>9.0</td>\n",
       "      <td>3</td>\n",
       "      <td>Sightseeing+2 more</td>\n",
       "    </tr>\n",
       "    <tr>\n",
       "      <th>967</th>\n",
       "      <td>Adventurous Assam Tour Package</td>\n",
       "      <td>Kaziranga National Park (3D)</td>\n",
       "      <td>3.0</td>\n",
       "      <td>2.0</td>\n",
       "      <td>14000</td>\n",
       "      <td>15730.000</td>\n",
       "      <td>14865.0000</td>\n",
       "      <td>11.0</td>\n",
       "      <td>3</td>\n",
       "      <td>Sightseeing+4 more</td>\n",
       "    </tr>\n",
       "    <tr>\n",
       "      <th>968</th>\n",
       "      <td>New Zealand Queenstown, Rotorua &amp; Franz Josef ...</td>\n",
       "      <td>Auckland (2D)Paihia (2D)Rotorua (1D)Queenstown...</td>\n",
       "      <td>11.5</td>\n",
       "      <td>10.5</td>\n",
       "      <td>102125</td>\n",
       "      <td>111991.875</td>\n",
       "      <td>107735.6875</td>\n",
       "      <td>7.5</td>\n",
       "      <td>3</td>\n",
       "      <td>Sightseeing+2 more</td>\n",
       "    </tr>\n",
       "    <tr>\n",
       "      <th>969</th>\n",
       "      <td>Ecstatic Cambodia Vietnam Family Holiday Package</td>\n",
       "      <td>Hanoi (3D)Ho Chi Minh City (3D)Siem Reap (2D)P...</td>\n",
       "      <td>11.0</td>\n",
       "      <td>10.0</td>\n",
       "      <td>55000</td>\n",
       "      <td>61111.000</td>\n",
       "      <td>58055.5000</td>\n",
       "      <td>10.0</td>\n",
       "      <td>3</td>\n",
       "      <td>Sightseeing+1 more</td>\n",
       "    </tr>\n",
       "  </tbody>\n",
       "</table>\n",
       "<p>970 rows × 10 columns</p>\n",
       "</div>"
      ],
      "text/plain": [
       "                                                 Title  \\\n",
       "0      Maldives South Palm Resort Package With Flights   \n",
       "1    Exclusive Bali Honeymoon Tour Packages For A M...   \n",
       "2           Romantic Mussoorie Tour Package From Delhi   \n",
       "3              Idyllic Maldives Honeymoon Tour Package   \n",
       "4    Budget-Friendly Dubai Packages From Atlantis F...   \n",
       "..                                                 ...   \n",
       "965          Sizzling Pattaya Sightseeing Tour Package   \n",
       "966                 Idyllic Dharamshala Family Package   \n",
       "967                     Adventurous Assam Tour Package   \n",
       "968  New Zealand Queenstown, Rotorua & Franz Josef ...   \n",
       "969   Ecstatic Cambodia Vietnam Family Holiday Package   \n",
       "\n",
       "                                              Location  Days  Nights  \\\n",
       "0                                       Addu City (5D)   5.0     4.0   \n",
       "1                                   Kuta (4D)Ubud (3D)   7.0     6.0   \n",
       "2                                       Mussoorie (3D)   3.0     2.0   \n",
       "3                                        Maldives (5D)   5.0     4.0   \n",
       "4                                           Dubai (6D)   6.0     5.0   \n",
       "..                                                 ...   ...     ...   \n",
       "965                                       Pattaya (4D)   4.0     3.0   \n",
       "966        Dharamshala (1D)Dalhousie (2D)Amritsar (3D)   6.0     5.0   \n",
       "967                       Kaziranga National Park (3D)   3.0     2.0   \n",
       "968  Auckland (2D)Paihia (2D)Rotorua (1D)Queenstown...  11.5    10.5   \n",
       "969  Hanoi (3D)Ho Chi Minh City (3D)Siem Reap (2D)P...  11.0    10.0   \n",
       "\n",
       "     Price_Min   Price_Max    Avg_Price  Discount  Hotel_Stars  \\\n",
       "0        29000   32222.000   30611.0000      11.5            4   \n",
       "1        10500   12000.000   11250.0000      10.0            3   \n",
       "2        93000  111991.875  107735.6875      11.5            5   \n",
       "3         7999    9142.000    8570.5000      11.5            2   \n",
       "4        15599   18811.000   17205.0000      11.5            3   \n",
       "..         ...         ...          ...       ...          ...   \n",
       "965      33999   37362.000   35680.5000       9.0            4   \n",
       "966      23400   25714.000   24557.0000       9.0            3   \n",
       "967      14000   15730.000   14865.0000      11.0            3   \n",
       "968     102125  111991.875  107735.6875       7.5            3   \n",
       "969      55000   61111.000   58055.5000      10.0            3   \n",
       "\n",
       "               Included  \n",
       "0    Sightseeing+3 more  \n",
       "1    Sightseeing+1 more  \n",
       "2    Sightseeing+2 more  \n",
       "3    Sightseeing+2 more  \n",
       "4    Sightseeing+2 more  \n",
       "..                  ...  \n",
       "965  Sightseeing+2 more  \n",
       "966  Sightseeing+2 more  \n",
       "967  Sightseeing+4 more  \n",
       "968  Sightseeing+2 more  \n",
       "969  Sightseeing+1 more  \n",
       "\n",
       "[970 rows x 10 columns]"
      ]
     },
     "execution_count": 282,
     "metadata": {},
     "output_type": "execute_result"
    }
   ],
   "source": [
    "df"
   ]
  },
  {
   "cell_type": "code",
   "execution_count": null,
   "id": "801ffe8f-2cd6-4e34-b2e6-5b280346174b",
   "metadata": {},
   "outputs": [],
   "source": []
  },
  {
   "cell_type": "markdown",
   "id": "631c25dc-e572-4e17-a45b-78e25d6e8645",
   "metadata": {},
   "source": [
    "## Statistical summary of Numerical columns"
   ]
  },
  {
   "cell_type": "code",
   "execution_count": 284,
   "id": "aede698c-1178-493c-962e-da83c7d656ed",
   "metadata": {},
   "outputs": [
    {
     "data": {
      "text/html": [
       "<div>\n",
       "<style scoped>\n",
       "    .dataframe tbody tr th:only-of-type {\n",
       "        vertical-align: middle;\n",
       "    }\n",
       "\n",
       "    .dataframe tbody tr th {\n",
       "        vertical-align: top;\n",
       "    }\n",
       "\n",
       "    .dataframe thead th {\n",
       "        text-align: right;\n",
       "    }\n",
       "</style>\n",
       "<table border=\"1\" class=\"dataframe\">\n",
       "  <thead>\n",
       "    <tr style=\"text-align: right;\">\n",
       "      <th></th>\n",
       "      <th>Days</th>\n",
       "      <th>Nights</th>\n",
       "      <th>Price_Min</th>\n",
       "      <th>Price_Max</th>\n",
       "      <th>Avg_Price</th>\n",
       "      <th>Discount</th>\n",
       "      <th>Hotel_Stars</th>\n",
       "    </tr>\n",
       "  </thead>\n",
       "  <tbody>\n",
       "    <tr>\n",
       "      <th>count</th>\n",
       "      <td>970.000000</td>\n",
       "      <td>970.000000</td>\n",
       "      <td>970.000000</td>\n",
       "      <td>970.000000</td>\n",
       "      <td>970.000000</td>\n",
       "      <td>970.000000</td>\n",
       "      <td>970.000000</td>\n",
       "    </tr>\n",
       "    <tr>\n",
       "      <th>mean</th>\n",
       "      <td>5.479897</td>\n",
       "      <td>4.479897</td>\n",
       "      <td>36868.668041</td>\n",
       "      <td>40899.913402</td>\n",
       "      <td>38961.360503</td>\n",
       "      <td>9.431443</td>\n",
       "      <td>3.221649</td>\n",
       "    </tr>\n",
       "    <tr>\n",
       "      <th>std</th>\n",
       "      <td>2.271636</td>\n",
       "      <td>2.271636</td>\n",
       "      <td>28621.112334</td>\n",
       "      <td>31563.401662</td>\n",
       "      <td>30244.381977</td>\n",
       "      <td>1.271336</td>\n",
       "      <td>0.713532</td>\n",
       "    </tr>\n",
       "    <tr>\n",
       "      <th>min</th>\n",
       "      <td>2.000000</td>\n",
       "      <td>1.000000</td>\n",
       "      <td>2500.000000</td>\n",
       "      <td>2750.000000</td>\n",
       "      <td>2625.000000</td>\n",
       "      <td>7.500000</td>\n",
       "      <td>1.000000</td>\n",
       "    </tr>\n",
       "    <tr>\n",
       "      <th>25%</th>\n",
       "      <td>4.000000</td>\n",
       "      <td>3.000000</td>\n",
       "      <td>15250.000000</td>\n",
       "      <td>16958.750000</td>\n",
       "      <td>16017.250000</td>\n",
       "      <td>9.000000</td>\n",
       "      <td>3.000000</td>\n",
       "    </tr>\n",
       "    <tr>\n",
       "      <th>50%</th>\n",
       "      <td>5.000000</td>\n",
       "      <td>4.000000</td>\n",
       "      <td>26250.000000</td>\n",
       "      <td>29401.000000</td>\n",
       "      <td>27864.000000</td>\n",
       "      <td>9.000000</td>\n",
       "      <td>3.000000</td>\n",
       "    </tr>\n",
       "    <tr>\n",
       "      <th>75%</th>\n",
       "      <td>7.000000</td>\n",
       "      <td>6.000000</td>\n",
       "      <td>50000.000000</td>\n",
       "      <td>54972.000000</td>\n",
       "      <td>52704.625000</td>\n",
       "      <td>10.000000</td>\n",
       "      <td>4.000000</td>\n",
       "    </tr>\n",
       "    <tr>\n",
       "      <th>max</th>\n",
       "      <td>11.500000</td>\n",
       "      <td>10.500000</td>\n",
       "      <td>102125.000000</td>\n",
       "      <td>111991.875000</td>\n",
       "      <td>107735.687500</td>\n",
       "      <td>11.500000</td>\n",
       "      <td>5.000000</td>\n",
       "    </tr>\n",
       "  </tbody>\n",
       "</table>\n",
       "</div>"
      ],
      "text/plain": [
       "             Days      Nights      Price_Min      Price_Max      Avg_Price  \\\n",
       "count  970.000000  970.000000     970.000000     970.000000     970.000000   \n",
       "mean     5.479897    4.479897   36868.668041   40899.913402   38961.360503   \n",
       "std      2.271636    2.271636   28621.112334   31563.401662   30244.381977   \n",
       "min      2.000000    1.000000    2500.000000    2750.000000    2625.000000   \n",
       "25%      4.000000    3.000000   15250.000000   16958.750000   16017.250000   \n",
       "50%      5.000000    4.000000   26250.000000   29401.000000   27864.000000   \n",
       "75%      7.000000    6.000000   50000.000000   54972.000000   52704.625000   \n",
       "max     11.500000   10.500000  102125.000000  111991.875000  107735.687500   \n",
       "\n",
       "         Discount  Hotel_Stars  \n",
       "count  970.000000   970.000000  \n",
       "mean     9.431443     3.221649  \n",
       "std      1.271336     0.713532  \n",
       "min      7.500000     1.000000  \n",
       "25%      9.000000     3.000000  \n",
       "50%      9.000000     3.000000  \n",
       "75%     10.000000     4.000000  \n",
       "max     11.500000     5.000000  "
      ]
     },
     "execution_count": 284,
     "metadata": {},
     "output_type": "execute_result"
    }
   ],
   "source": [
    "df.describe()"
   ]
  },
  {
   "cell_type": "markdown",
   "id": "cd8b8fd0-1d8d-4ab7-9011-6d80e388a501",
   "metadata": {},
   "source": [
    "### Observation \n",
    "\n",
    "- Describes the Statistical summary of Numerical columns .."
   ]
  },
  {
   "cell_type": "code",
   "execution_count": null,
   "id": "873546c9-1a6a-4555-9f87-7397ebd77bce",
   "metadata": {},
   "outputs": [],
   "source": []
  },
  {
   "cell_type": "markdown",
   "id": "522cecf4-836b-476d-823b-f07a67ead8be",
   "metadata": {},
   "source": [
    "## Value_counts for Categorical columns\n"
   ]
  },
  {
   "cell_type": "code",
   "execution_count": 287,
   "id": "0b8251f3-4d97-46b0-b419-31f0a29e0534",
   "metadata": {},
   "outputs": [
    {
     "data": {
      "text/plain": [
       "Title\n",
       "Maldives South Palm Resort Package With Flights                       1\n",
       "Luxurious Palm Atlantis Dubai Holiday Package                         1\n",
       "Austria Honeymoon: An Enchanting Experience                           1\n",
       "Riveting Rajasthan Sightseeing Tour Package                           1\n",
       "Kerala Honeymoon Package For 2 Nights 3 Days                          1\n",
       "                                                                     ..\n",
       "Exciting Vietnam Honeymoon Tour                                       1\n",
       "An Utterly Ravishing Rajasthan Tour Package                           1\n",
       "Best Selling Meghalaya Tour Packages For A Rejuvenating Experience    1\n",
       "Mesmerizing Uttarakhand Summer Special Family Package                 1\n",
       "Ecstatic Cambodia Vietnam Family Holiday Package                      1\n",
       "Name: count, Length: 970, dtype: int64"
      ]
     },
     "execution_count": 287,
     "metadata": {},
     "output_type": "execute_result"
    }
   ],
   "source": [
    "df['Title'].value_counts()"
   ]
  },
  {
   "cell_type": "code",
   "execution_count": 288,
   "id": "efcd60c6-4db0-419f-89d8-cfce816275a8",
   "metadata": {},
   "outputs": [
    {
     "data": {
      "text/plain": [
       "Location\n",
       "Mauritius (7D)                                                      15\n",
       "Goa (4D)                                                            11\n",
       "Dubai (5D)                                                           9\n",
       "Mauritius (6D)                                                       8\n",
       "Maldives (5D)                                                        8\n",
       "                                                                    ..\n",
       "Vaikom (1D)Alleppey (1D)Thekkady (2D)Athirapally (1D)Cherai (3D)     1\n",
       "Praslin (3D)Mahe Island (3D)Mahe (1D)                                1\n",
       "Colombo (2D)Maldives (4D)                                            1\n",
       "Phuket (3D)Krabi (3D)                                                1\n",
       "Hanoi (3D)Ho Chi Minh City (3D)Siem Reap (2D)Phnom Penh (3D)         1\n",
       "Name: count, Length: 589, dtype: int64"
      ]
     },
     "execution_count": 288,
     "metadata": {},
     "output_type": "execute_result"
    }
   ],
   "source": [
    "df['Location'].value_counts()"
   ]
  },
  {
   "cell_type": "code",
   "execution_count": 289,
   "id": "17cbe020-9479-453d-88e2-0c63fa1abb08",
   "metadata": {},
   "outputs": [
    {
     "data": {
      "text/plain": [
       "Included\n",
       "Sightseeing+2 more    678\n",
       "Sightseeing+1 more    135\n",
       "Sightseeing+3 more     97\n",
       "Sightseeing+4 more     38\n",
       "Sightseeing+5 more     18\n",
       "Sightseeing+6 more      4\n",
       "Name: count, dtype: int64"
      ]
     },
     "execution_count": 289,
     "metadata": {},
     "output_type": "execute_result"
    }
   ],
   "source": [
    "df['Included'].value_counts()"
   ]
  },
  {
   "cell_type": "code",
   "execution_count": null,
   "id": "42ab98c4-f83a-4411-a6cc-1a6995ea7689",
   "metadata": {},
   "outputs": [],
   "source": []
  },
  {
   "cell_type": "code",
   "execution_count": null,
   "id": "3e3b03ac-7492-4929-9e3f-391424f955f6",
   "metadata": {},
   "outputs": [],
   "source": []
  },
  {
   "cell_type": "markdown",
   "id": "9eff508a-f296-424a-9022-547aa64ca0b5",
   "metadata": {},
   "source": [
    "## Univariate Non Visual Analysis (categorical data)"
   ]
  },
  {
   "cell_type": "code",
   "execution_count": 291,
   "id": "83c8e1b8-7346-41de-b09f-372f207a345f",
   "metadata": {},
   "outputs": [],
   "source": [
    "def discrete(discrete_data):\n",
    "    for col_name in discrete_data:\n",
    "        print(\"*\"*10,col_name,\"*\"*10)\n",
    "        print(discrete_data[col_name].agg(['count','nunique','unique']))\n",
    "        print()"
   ]
  },
  {
   "cell_type": "code",
   "execution_count": 292,
   "id": "ba6e753a-df46-4253-85ed-6db9cde4b0a8",
   "metadata": {},
   "outputs": [],
   "source": [
    "discrete_df = df.select_dtypes(include=['object'])"
   ]
  },
  {
   "cell_type": "code",
   "execution_count": 293,
   "id": "16745c04-4553-4b92-a69a-1f15082d8eca",
   "metadata": {},
   "outputs": [
    {
     "name": "stdout",
     "output_type": "stream",
     "text": [
      "********** Title **********\n",
      "count                                                    970\n",
      "nunique                                                  970\n",
      "unique     [Maldives South Palm Resort Package With Fligh...\n",
      "Name: Title, dtype: object\n",
      "\n",
      "********** Location **********\n",
      "count                                                    970\n",
      "nunique                                                  589\n",
      "unique     [Addu City (5D), Kuta (4D)Ubud (3D), Mussoorie...\n",
      "Name: Location, dtype: object\n",
      "\n",
      "********** Included **********\n",
      "count                                                    970\n",
      "nunique                                                    6\n",
      "unique     [Sightseeing+3 more, Sightseeing+1 more, Sight...\n",
      "Name: Included, dtype: object\n",
      "\n"
     ]
    }
   ],
   "source": [
    "discrete(discrete_df)"
   ]
  },
  {
   "cell_type": "code",
   "execution_count": null,
   "id": "fb1ecfc8-e5e6-4f8f-bea6-27b715a81c62",
   "metadata": {},
   "outputs": [],
   "source": []
  },
  {
   "cell_type": "markdown",
   "id": "81aaf1e4-019b-4802-848a-05f9e8c5c104",
   "metadata": {},
   "source": [
    "## Unvariate Non Visual Analysis (Numerical data)"
   ]
  },
  {
   "cell_type": "code",
   "execution_count": 295,
   "id": "6275ee29-e40f-43d7-9460-7cc3ff129389",
   "metadata": {},
   "outputs": [],
   "source": [
    "def numerical_univariate_analysis(numerical_data):\n",
    "    for col_name in numerical_data:\n",
    "        print(\"*\"*10, col_name, \"*\"*10)\n",
    "        print(numerical_data[col_name].agg(['count', 'min', 'max', 'mean', 'median', 'std', 'skew']))\n",
    "        print()"
   ]
  },
  {
   "cell_type": "code",
   "execution_count": 296,
   "id": "b917ba53-6b81-4eff-83b4-8d9a97c23007",
   "metadata": {},
   "outputs": [],
   "source": [
    "numerical_df = df.select_dtypes(include=['int64', 'int32', 'float64'])"
   ]
  },
  {
   "cell_type": "code",
   "execution_count": 297,
   "id": "792b7e7e-d09e-4126-b4b4-ad29ed488973",
   "metadata": {},
   "outputs": [
    {
     "name": "stdout",
     "output_type": "stream",
     "text": [
      "********** Days **********\n",
      "count     970.000000\n",
      "min         2.000000\n",
      "max        11.500000\n",
      "mean        5.479897\n",
      "median      5.000000\n",
      "std         2.271636\n",
      "skew        0.754104\n",
      "Name: Days, dtype: float64\n",
      "\n",
      "********** Nights **********\n",
      "count     970.000000\n",
      "min         1.000000\n",
      "max        10.500000\n",
      "mean        4.479897\n",
      "median      4.000000\n",
      "std         2.271636\n",
      "skew        0.754104\n",
      "Name: Nights, dtype: float64\n",
      "\n",
      "********** Price_Min **********\n",
      "count        970.000000\n",
      "min         2500.000000\n",
      "max       102125.000000\n",
      "mean       36868.668041\n",
      "median     26250.000000\n",
      "std        28621.112334\n",
      "skew           1.101755\n",
      "Name: Price_Min, dtype: float64\n",
      "\n",
      "********** Price_Max **********\n",
      "count        970.000000\n",
      "min         2750.000000\n",
      "max       111991.875000\n",
      "mean       40899.913402\n",
      "median     29401.000000\n",
      "std        31563.401662\n",
      "skew           1.088986\n",
      "Name: Price_Max, dtype: float64\n",
      "\n",
      "********** Avg_Price **********\n",
      "count        970.000000\n",
      "min         2625.000000\n",
      "max       107735.687500\n",
      "mean       38961.360503\n",
      "median     27864.000000\n",
      "std        30244.381977\n",
      "skew           1.105244\n",
      "Name: Avg_Price, dtype: float64\n",
      "\n",
      "********** Discount **********\n",
      "count     970.000000\n",
      "min         7.500000\n",
      "max        11.500000\n",
      "mean        9.431443\n",
      "median      9.000000\n",
      "std         1.271336\n",
      "skew        0.359984\n",
      "Name: Discount, dtype: float64\n",
      "\n",
      "********** Hotel_Stars **********\n",
      "count     970.000000\n",
      "min         1.000000\n",
      "max         5.000000\n",
      "mean        3.221649\n",
      "median      3.000000\n",
      "std         0.713532\n",
      "skew        0.536272\n",
      "Name: Hotel_Stars, dtype: float64\n",
      "\n"
     ]
    }
   ],
   "source": [
    "numerical_univariate_analysis(numerical_df)"
   ]
  },
  {
   "cell_type": "code",
   "execution_count": null,
   "id": "2a67af74-1243-4834-97b2-e8847b6d02ce",
   "metadata": {},
   "outputs": [],
   "source": []
  },
  {
   "cell_type": "code",
   "execution_count": null,
   "id": "e6143eac-2e55-47ae-875f-7ede44765c85",
   "metadata": {},
   "outputs": [],
   "source": []
  },
  {
   "cell_type": "markdown",
   "id": "03713c6a-9680-40ae-a264-f392068a4d06",
   "metadata": {},
   "source": [
    "## Univariate Visual Analysis"
   ]
  },
  {
   "cell_type": "code",
   "execution_count": 299,
   "id": "67fce5eb-c3c9-418c-8520-6297f18bc678",
   "metadata": {
    "scrolled": true
   },
   "outputs": [
    {
     "data": {
      "image/png": "[encoded data removed]",
      "text/plain": [
       "<Figure size 800x500 with 1 Axes>"
      ]
     },
     "metadata": {},
     "output_type": "display_data"
    },
    {
     "data": {
      "image/png": "[encoded data removed]",
      "text/plain": [
       "<Figure size 600x400 with 1 Axes>"
      ]
     },
     "metadata": {},
     "output_type": "display_data"
    },
    {
     "data": {
      "image/png": "[encoded data removed]",
      "text/plain": [
       "<Figure size 800x500 with 1 Axes>"
      ]
     },
     "metadata": {},
     "output_type": "display_data"
    },
    {
     "data": {
      "image/png": "[encoded data removed]",
      "text/plain": [
       "<Figure size 800x500 with 1 Axes>"
      ]
     },
     "metadata": {},
     "output_type": "display_data"
    },
    {
     "data": {
      "image/png": "[encoded data removed]",
      "text/plain": [
       "<Figure size 1000x600 with 1 Axes>"
      ]
     },
     "metadata": {},
     "output_type": "display_data"
    }
   ],
   "source": [
    "# Price Distribution\n",
    "plt.figure(figsize=(8,5))\n",
    "sns.histplot(df['Avg_Price'], bins=30, kde=True)\n",
    "plt.title(\"Distribution of Average Tour Prices\")\n",
    "plt.xlabel(\"Average Price\")\n",
    "plt.show()\n",
    "\n",
    "# Hotel Type Distribution\n",
    "plt.figure(figsize=(6,4))\n",
    "df['Hotel_Stars'].value_counts().sort_index().plot(kind='bar', color=\"skyblue\")\n",
    "plt.title(\"Distribution of Star_Hotels\")\n",
    "plt.xlabel(\"Hotel Stars\")\n",
    "plt.ylabel(\"Count\")\n",
    "plt.show()\n",
    "\n",
    "# Days Distribution\n",
    "plt.figure(figsize=(8,5))\n",
    "sns.histplot(df['Days'], bins=15, color=\"orange\")\n",
    "plt.title(\"Distribution of Package Duration (Days)\")\n",
    "plt.xlabel(\"Days\")\n",
    "plt.show()\n",
    "\n",
    "# Discounts Distribution\n",
    "plt.figure(figsize=(8,5))\n",
    "sns.histplot(df['Discount'], bins=20, color=\"green\")\n",
    "plt.title(\"Distribution of Discounts (%)\")\n",
    "plt.xlabel(\"Discount %\")\n",
    "plt.show()\n",
    "\n",
    "# Top 10 Locations\n",
    "plt.figure(figsize=(10,6))\n",
    "df['Location'].value_counts().head(10).plot(kind='bar')\n",
    "plt.title(\"Top 10 Locations by Number of Packages\")\n",
    "plt.xlabel(\"Location\")\n",
    "plt.ylabel(\"Count\")\n",
    "plt.show()\n"
   ]
  },
  {
   "cell_type": "code",
   "execution_count": null,
   "id": "4c4f1b64-eac2-4a22-a5c4-f91467b160f2",
   "metadata": {},
   "outputs": [],
   "source": []
  },
  {
   "cell_type": "code",
   "execution_count": null,
   "id": "da8917ca-c0e9-40ad-8ff7-415f3ab593b5",
   "metadata": {},
   "outputs": [],
   "source": []
  },
  {
   "cell_type": "markdown",
   "id": "6a3e7932-e588-40ec-955a-902b2c262ed1",
   "metadata": {},
   "source": [
    "# BIVARIATE ANALYSIS"
   ]
  },
  {
   "cell_type": "code",
   "execution_count": 301,
   "id": "fe533c8e-9205-4765-917f-79d7eafdff5d",
   "metadata": {},
   "outputs": [
    {
     "data": {
      "image/png": "[encoded data removed]",
      "text/plain": [
       "<Figure size 800x600 with 1 Axes>"
      ]
     },
     "metadata": {},
     "output_type": "display_data"
    },
    {
     "data": {
      "image/png": "[encoded data removed]",
      "text/plain": [
       "<Figure size 800x600 with 1 Axes>"
      ]
     },
     "metadata": {},
     "output_type": "display_data"
    },
    {
     "data": {
      "image/png": "[encoded data removed]",
      "text/plain": [
       "<Figure size 800x600 with 1 Axes>"
      ]
     },
     "metadata": {},
     "output_type": "display_data"
    },
    {
     "data": {
      "image/png": "[encoded data removed]",
      "text/plain": [
       "<Figure size 1200x600 with 1 Axes>"
      ]
     },
     "metadata": {},
     "output_type": "display_data"
    },
    {
     "data": {
      "image/png": "[encoded data removed]",
      "text/plain": [
       "<Figure size 1200x600 with 1 Axes>"
      ]
     },
     "metadata": {},
     "output_type": "display_data"
    }
   ],
   "source": [
    "\n",
    "# Price vs Days\n",
    "plt.figure(figsize=(8,6))\n",
    "sns.scatterplot(x='Days', y='Avg_Price', data=df, alpha=0.6)\n",
    "plt.title(\"Average Price vs Days\")\n",
    "plt.show()\n",
    "\n",
    "# Discount vs Price\n",
    "plt.figure(figsize=(8,6))\n",
    "sns.scatterplot(x='Discount', y='Avg_Price', data=df, alpha=0.6, color=\"red\")\n",
    "plt.title(\"Discount vs Average Price\")\n",
    "plt.show()\n",
    "\n",
    "# Hotel Stars vs Price\n",
    "plt.figure(figsize=(8,6))\n",
    "sns.boxplot(x='Hotel_Stars', y='Avg_Price', data=df)\n",
    "plt.title(\"Average Price by Star Hotel\")\n",
    "plt.show()\n",
    "\n",
    "# Sightseeing vs Price\n",
    "plt.figure(figsize=(12,6))\n",
    "sns.boxplot(x='Included', y='Avg_Price', data=df)\n",
    "plt.title(\"Average Price vs Included\")\n",
    "plt.show()\n",
    "\n",
    "# Top Locations vs Price\n",
    "plt.figure(figsize=(12,6))\n",
    "top_locs = df['Location'].value_counts().head(8).index\n",
    "sns.barplot(x='Location', y='Avg_Price', data=df[df['Location'].isin(top_locs)])\n",
    "plt.xticks(rotation=90)\n",
    "plt.title(\"Top 8 Locations vs Average Price\")\n",
    "plt.show()\n"
   ]
  },
  {
   "cell_type": "code",
   "execution_count": null,
   "id": "1b495ffa-5eff-47da-8199-5c5d4cd4cb37",
   "metadata": {},
   "outputs": [],
   "source": []
  },
  {
   "cell_type": "code",
   "execution_count": 302,
   "id": "14e08e66-8ee2-4782-8cd8-c9c5f4976201",
   "metadata": {},
   "outputs": [
    {
     "data": {
      "image/png": "[encoded data removed]",
      "text/plain": [
       "<Figure size 1000x600 with 2 Axes>"
      ]
     },
     "metadata": {},
     "output_type": "display_data"
    }
   ],
   "source": [
    "numeric_df = df.select_dtypes(include=['int64','int32',  'float64'])\n",
    "\n",
    "# Compute correlation matrix\n",
    "corr_matrix = numeric_df.corr()\n",
    "\n",
    "# Plot correlation heatmap\n",
    "plt.figure(figsize=(10, 6))\n",
    "sns.heatmap(corr_matrix, annot=True, cmap=\"coolwarm\", fmt=\".2f\", linewidths=0.5)\n",
    "plt.title(\"Correlation Matrix Heatmap\", fontsize=16)\n",
    "plt.show()"
   ]
  },
  {
   "cell_type": "code",
   "execution_count": null,
   "id": "2a8a6380-f0b3-4dbd-a64f-dbfb2ae3bf19",
   "metadata": {},
   "outputs": [],
   "source": []
  },
  {
   "cell_type": "code",
   "execution_count": null,
   "id": "13f18ed7-1cd1-4625-ac4a-8a6df026cfd5",
   "metadata": {},
   "outputs": [],
   "source": []
  },
  {
   "cell_type": "code",
   "execution_count": null,
   "id": "e5f459e8-3e44-405d-ba01-ce7f87ff9f23",
   "metadata": {},
   "outputs": [],
   "source": []
  },
  {
   "cell_type": "code",
   "execution_count": 303,
   "id": "8a427e62-f100-4283-a560-6d314d517460",
   "metadata": {},
   "outputs": [],
   "source": [
    "df.to_csv(\"Tour_packages using webscraping.csv\", index=False)"
   ]
  },
  {
   "cell_type": "code",
   "execution_count": null,
   "id": "d9b45b37-79bb-4d4c-aa67-4bd659003bb7",
   "metadata": {},
   "outputs": [],
   "source": []
  }
 ],
 "metadata": {
  "kernelspec": {
   "display_name": "Python [conda env:base] *",
   "language": "python",
   "name": "conda-base-py"
  },
  "language_info": {
   "codemirror_mode": {
    "name": "ipython",
    "version": 3
   },
   "file_extension": ".py",
   "mimetype": "text/x-python",
   "name": "python",
   "nbconvert_exporter": "python",
   "pygments_lexer": "ipython3",
   "version": "3.12.7"
  }
 },
 "nbformat": 4,
 "nbformat_minor": 5
}
